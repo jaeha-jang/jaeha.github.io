{
  "nbformat": 4,
  "nbformat_minor": 0,
  "metadata": {
    "colab": {
      "provenance": [],
      "authorship_tag": "ABX9TyP/sMW0aiIOCXQdRTRjqRP/",
      "include_colab_link": true
    },
    "kernelspec": {
      "name": "python3",
      "display_name": "Python 3"
    },
    "language_info": {
      "name": "python"
    }
  },
  "cells": [
    {
      "cell_type": "markdown",
      "metadata": {
        "id": "view-in-github",
        "colab_type": "text"
      },
      "source": [
        "<a href=\"https://colab.research.google.com/github/jaeha-jang/jaeha.github.io/blob/master/Untitled.ipynb\" target=\"_parent\"><img src=\"https://colab.research.google.com/assets/colab-badge.svg\" alt=\"Open In Colab\"/></a>"
      ]
    },
    {
      "cell_type": "code",
      "source": [
        "!pip install konlpy\n",
        "!pip show konlpy"
      ],
      "metadata": {
        "colab": {
          "base_uri": "https://localhost:8080/"
        },
        "id": "HLafcrXP4g-5",
        "outputId": "a0b97080-c189-463e-f99d-d65ac55df401"
      },
      "execution_count": 48,
      "outputs": [
        {
          "output_type": "stream",
          "name": "stdout",
          "text": [
            "Requirement already satisfied: konlpy in /usr/local/lib/python3.11/dist-packages (0.6.0)\n",
            "Requirement already satisfied: JPype1>=0.7.0 in /usr/local/lib/python3.11/dist-packages (from konlpy) (1.5.2)\n",
            "Requirement already satisfied: lxml>=4.1.0 in /usr/local/lib/python3.11/dist-packages (from konlpy) (5.4.0)\n",
            "Requirement already satisfied: numpy>=1.6 in /usr/local/lib/python3.11/dist-packages (from konlpy) (2.0.2)\n",
            "Requirement already satisfied: packaging in /usr/local/lib/python3.11/dist-packages (from JPype1>=0.7.0->konlpy) (24.2)\n",
            "Name: konlpy\n",
            "Version: 0.6.0\n",
            "Summary: Python package for Korean natural language processing.\n",
            "Home-page: http://konlpy.org\n",
            "Author: Team KoNLPy\n",
            "Author-email: konlpy@googlegroups.com\n",
            "License: GPL v3\n",
            "Location: /usr/local/lib/python3.11/dist-packages\n",
            "Requires: JPype1, lxml, numpy\n",
            "Required-by: \n"
          ]
        }
      ]
    },
    {
      "cell_type": "code",
      "execution_count": 49,
      "metadata": {
        "id": "V7GLxjEk4KUM"
      },
      "outputs": [],
      "source": [
        "from konlpy.tag import Okt\n",
        "okt=Okt()"
      ]
    },
    {
      "cell_type": "code",
      "source": [
        "from konlpy.tag import Okt\n",
        "okt=Okt()\n",
        "token=okt.morphs('달이 참 예쁘다고')\n",
        "print(token)"
      ],
      "metadata": {
        "colab": {
          "base_uri": "https://localhost:8080/"
        },
        "id": "1P3ewRCa4ZIR",
        "outputId": "af4a793b-1f82-4470-da83-f745027074e8"
      },
      "execution_count": 50,
      "outputs": [
        {
          "output_type": "stream",
          "name": "stdout",
          "text": [
            "['달이', '참', '예쁘다고']\n"
          ]
        }
      ]
    },
    {
      "cell_type": "code",
      "source": [
        "from konlpy.tag import Okt\n",
        "okt=Okt()\n",
        "sentence_tag=okt.pos('달이 참 예쁘다고')\n",
        "print(sentence_tag)\n",
        "sentence_tag=okt.pos('달이 참 예쁘다고',join=True)\n",
        "print(sentence_tag)"
      ],
      "metadata": {
        "colab": {
          "base_uri": "https://localhost:8080/"
        },
        "id": "o_OAatdb5iHa",
        "outputId": "1230b223-532c-42c6-cf56-224ece002068"
      },
      "execution_count": 51,
      "outputs": [
        {
          "output_type": "stream",
          "name": "stdout",
          "text": [
            "[('달이', 'Noun'), ('참', 'Verb'), ('예쁘다고', 'Adjective')]\n",
            "['달이/Noun', '참/Verb', '예쁘다고/Adjective']\n"
          ]
        }
      ]
    },
    {
      "cell_type": "code",
      "source": [
        "from konlpy.tag import Okt\n",
        "okt=Okt()\n",
        "sentence=okt.phrases('달이 참 예쁘다고')\n",
        "sentence"
      ],
      "metadata": {
        "colab": {
          "base_uri": "https://localhost:8080/"
        },
        "id": "a1Tcdi5JJ-hW",
        "outputId": "1f784a5e-db83-4646-d3cd-71310c11e2b2"
      },
      "execution_count": 52,
      "outputs": [
        {
          "output_type": "execute_result",
          "data": {
            "text/plain": [
              "['달이']"
            ]
          },
          "metadata": {},
          "execution_count": 52
        }
      ]
    },
    {
      "cell_type": "code",
      "source": [
        "text='이승윤 숨고 싶을 땐 다락이 되어 줄거야 죽고 싶을 땐 나락이 되어 줄거야 울고 싶은만큼 허송세월 해 줄거야 진심이 버거울 땐 우리 가면 무도회를 열자'\n",
        "sentence_tag=okt.pos(text)\n",
        "sentence_tag"
      ],
      "metadata": {
        "colab": {
          "base_uri": "https://localhost:8080/"
        },
        "id": "tkXNyc7N6wgN",
        "outputId": "7bb7a62b-1fa1-4d1c-86a6-2e22b8e2f471"
      },
      "execution_count": 53,
      "outputs": [
        {
          "output_type": "execute_result",
          "data": {
            "text/plain": [
              "[('이승윤', 'Noun'),\n",
              " ('숨고', 'Verb'),\n",
              " ('싶을', 'Verb'),\n",
              " ('땐', 'Noun'),\n",
              " ('다락', 'Noun'),\n",
              " ('이', 'Josa'),\n",
              " ('되어', 'Verb'),\n",
              " ('줄거야', 'Verb'),\n",
              " ('죽고', 'Verb'),\n",
              " ('싶을', 'Verb'),\n",
              " ('땐', 'Noun'),\n",
              " ('나락', 'Noun'),\n",
              " ('이', 'Josa'),\n",
              " ('되어', 'Verb'),\n",
              " ('줄거야', 'Verb'),\n",
              " ('울', 'Noun'),\n",
              " ('고', 'Josa'),\n",
              " ('싶은만큼', 'Verb'),\n",
              " ('허송', 'Noun'),\n",
              " ('세월', 'Noun'),\n",
              " ('해', 'Noun'),\n",
              " ('줄거야', 'Verb'),\n",
              " ('진심', 'Noun'),\n",
              " ('이', 'Josa'),\n",
              " ('버거울', 'Adjective'),\n",
              " ('땐', 'Noun'),\n",
              " ('우리', 'Noun'),\n",
              " ('가면', 'Noun'),\n",
              " ('무도회', 'Noun'),\n",
              " ('를', 'Josa'),\n",
              " ('열자', 'Noun')]"
            ]
          },
          "metadata": {},
          "execution_count": 53
        }
      ]
    },
    {
      "cell_type": "code",
      "source": [
        "!apt-get install fonts-nanum\n",
        "font_path='/usr/share/fonts/truetype/nanum/NanumBarunGothic.ttf'"
      ],
      "metadata": {
        "colab": {
          "base_uri": "https://localhost:8080/"
        },
        "id": "v9VibN2H9f5Q",
        "outputId": "946cf03b-cdd9-401f-88ef-8a61248d59a6"
      },
      "execution_count": 54,
      "outputs": [
        {
          "output_type": "stream",
          "name": "stdout",
          "text": [
            "Reading package lists... Done\n",
            "Building dependency tree... Done\n",
            "Reading state information... Done\n",
            "fonts-nanum is already the newest version (20200506-1).\n",
            "0 upgraded, 0 newly installed, 0 to remove and 34 not upgraded.\n"
          ]
        }
      ]
    },
    {
      "cell_type": "code",
      "source": [
        "f = open(\"/content/달이참예쁘다고.txt\", 'r')\n",
        "str=''\n",
        "lines = f.readlines()\n",
        "for line in lines:\n",
        "  line = line.strip()\n",
        "  str+=line\n",
        "f.close()\n",
        "sentence_tag=okt.pos(str)\n",
        "sentence_tag"
      ],
      "metadata": {
        "colab": {
          "base_uri": "https://localhost:8080/"
        },
        "id": "Lz4ePVg7LNb2",
        "outputId": "a003dc4f-230a-4a2c-8751-6bea00c6a1f6"
      },
      "execution_count": 55,
      "outputs": [
        {
          "output_type": "execute_result",
          "data": {
            "text/plain": [
              "[('이승윤', 'Noun'),\n",
              " ('밤', 'Noun'),\n",
              " ('하늘', 'Noun'),\n",
              " ('빛나는', 'Verb'),\n",
              " ('수만', 'Noun'),\n",
              " ('가지', 'Noun'),\n",
              " ('것', 'Noun'),\n",
              " ('들', 'Suffix'),\n",
              " ('이', 'Josa'),\n",
              " ('이미', 'Adverb'),\n",
              " ('죽어', 'Verb'),\n",
              " ('버린', 'Verb'),\n",
              " ('행성', 'Noun'),\n",
              " ('의', 'Josa'),\n",
              " ('잔', 'Noun'),\n",
              " ('해라면', 'Verb'),\n",
              " ('고개', 'Noun'),\n",
              " ('를', 'Josa'),\n",
              " ('들어', 'Verb'),\n",
              " ('경의', 'Noun'),\n",
              " ('를', 'Josa'),\n",
              " ('표', 'Noun'),\n",
              " ('하기', 'Verb'),\n",
              " ('보단', 'Verb'),\n",
              " ('허리', 'Noun'),\n",
              " ('를', 'Josa'),\n",
              " ('숙여', 'Verb'),\n",
              " ('흙', 'Noun'),\n",
              " ('을', 'Josa'),\n",
              " ('한', 'Verb'),\n",
              " ('웅큼', 'Noun'),\n",
              " ('집어', 'Verb'),\n",
              " ('들래', 'Verb'),\n",
              " ('방', 'Noun'),\n",
              " ('안', 'Noun'),\n",
              " ('에', 'Josa'),\n",
              " ('가득히', 'Adjective'),\n",
              " ('내', 'Noun'),\n",
              " ('가', 'Josa'),\n",
              " ('사랑', 'Noun'),\n",
              " ('을', 'Josa'),\n",
              " ('했던', 'Verb'),\n",
              " ('사람', 'Noun'),\n",
              " ('들', 'Suffix'),\n",
              " ('이', 'Josa'),\n",
              " ('액자', 'Noun'),\n",
              " ('안', 'Noun'),\n",
              " ('에서', 'Josa'),\n",
              " ('빛나고', 'Verb'),\n",
              " ('있어', 'Adjective'),\n",
              " ('죽어서', 'Verb'),\n",
              " ('이름', 'Noun'),\n",
              " ('을', 'Josa'),\n",
              " ('어딘가', 'Noun'),\n",
              " ('남기기', 'Verb'),\n",
              " ('보단', 'Verb'),\n",
              " ('살아서', 'Verb'),\n",
              " ('그', 'Noun'),\n",
              " ('들', 'Suffix'),\n",
              " ('의', 'Josa'),\n",
              " ('이름', 'Noun'),\n",
              " ('을', 'Josa'),\n",
              " ('한번', 'Noun'),\n",
              " ('더', 'Noun'),\n",
              " ('불러', 'Verb'),\n",
              " ('볼', 'Noun'),\n",
              " ('래', 'Josa'),\n",
              " ('위대한', 'Adjective'),\n",
              " ('공식', 'Noun'),\n",
              " ('이', 'Josa'),\n",
              " ('길게', 'Adjective'),\n",
              " ('늘어서', 'Verb'),\n",
              " ('있는', 'Adjective'),\n",
              " ('거대한', 'Adjective'),\n",
              " ('시공', 'Noun'),\n",
              " ('에', 'Josa'),\n",
              " ('짧은', 'Adjective'),\n",
              " ('문장', 'Noun'),\n",
              " ('을', 'Josa'),\n",
              " ('새겨', 'Verb'),\n",
              " ('보곤', 'Verb'),\n",
              " ('해너', 'Noun'),\n",
              " ('와', 'Josa'),\n",
              " ('나', 'Noun'),\n",
              " ('또', 'Noun'),\n",
              " ('몇몇', 'Noun'),\n",
              " ('의', 'Josa'),\n",
              " ('이름', 'Noun'),\n",
              " ('두어', 'Modifier'),\n",
              " ('가지', 'Noun'),\n",
              " ('마음', 'Noun'),\n",
              " ('까지', 'Josa'),\n",
              " ('영원히', 'Adjective'),\n",
              " ('노', 'Noun'),\n",
              " ('를', 'Josa'),\n",
              " ('저을', 'Noun'),\n",
              " ('순', 'Noun'),\n",
              " ('없지만', 'Adjective'),\n",
              " ('몇', 'Noun'),\n",
              " ('분', 'Noun'),\n",
              " ('짜리', 'Verb'),\n",
              " ('노랠', 'Adjective'),\n",
              " ('지을', 'Verb'),\n",
              " ('수', 'Noun'),\n",
              " ('있어', 'Adjective'),\n",
              " ('서수만', 'Noun'),\n",
              " ('광년', 'Noun'),\n",
              " ('의', 'Josa'),\n",
              " ('일렁임', 'Noun'),\n",
              " ('을', 'Josa'),\n",
              " ('거두어', 'Verb'),\n",
              " ('지금', 'Noun'),\n",
              " ('을', 'Josa'),\n",
              " ('네', 'Noun'),\n",
              " ('게', 'Josa'),\n",
              " ('들려', 'Verb'),\n",
              " ('줄거야', 'Verb'),\n",
              " ('달이', 'Noun'),\n",
              " ('참', 'Verb'),\n",
              " ('예쁘다', 'Adjective'),\n",
              " ('숨고', 'Verb'),\n",
              " ('싶을', 'Verb'),\n",
              " ('땐', 'Noun'),\n",
              " ('다락', 'Noun'),\n",
              " ('이', 'Josa'),\n",
              " ('되어', 'Verb'),\n",
              " ('줄거야', 'Verb'),\n",
              " ('죽고', 'Verb'),\n",
              " ('싶을', 'Verb'),\n",
              " ('땐', 'Noun'),\n",
              " ('나락', 'Noun'),\n",
              " ('이', 'Josa'),\n",
              " ('되어', 'Verb'),\n",
              " ('줄거야울고', 'Verb'),\n",
              " ('싶은만큼', 'Verb'),\n",
              " ('허송', 'Noun'),\n",
              " ('세월', 'Noun'),\n",
              " ('해', 'Noun'),\n",
              " ('줄거야', 'Verb'),\n",
              " ('진심', 'Noun'),\n",
              " ('이', 'Josa'),\n",
              " ('버거울', 'Adjective'),\n",
              " ('땐', 'Noun'),\n",
              " ('우리', 'Noun'),\n",
              " ('가면', 'Noun'),\n",
              " ('무도회', 'Noun'),\n",
              " ('를', 'Josa'),\n",
              " ('열자', 'Noun'),\n",
              " ('달', 'Noun'),\n",
              " ('위', 'Noun'),\n",
              " ('에다', 'Josa'),\n",
              " ('발자국', 'Noun'),\n",
              " ('을', 'Josa'),\n",
              " ('남기고', 'Verb'),\n",
              " ('싶진', 'Verb'),\n",
              " ('않아', 'Verb'),\n",
              " ('단지', 'Noun'),\n",
              " ('너', 'Noun'),\n",
              " ('와', 'Josa'),\n",
              " ('발', 'Noun'),\n",
              " ('맞추어', 'Verb'),\n",
              " ('걷고', 'Verb'),\n",
              " ('싶었어', 'Verb'),\n",
              " ('닻', 'Noun'),\n",
              " ('이', 'Josa'),\n",
              " ('닫지', 'Verb'),\n",
              " ('않는', 'Verb'),\n",
              " ('바다', 'Noun'),\n",
              " ('의', 'Josa'),\n",
              " ('바닥', 'Noun'),\n",
              " ('이라도', 'Josa'),\n",
              " ('영원히', 'Adjective'),\n",
              " ('노', 'Noun'),\n",
              " ('를', 'Josa'),\n",
              " ('저을', 'Noun'),\n",
              " ('순', 'Noun'),\n",
              " ('없지만', 'Adjective'),\n",
              " ('몇', 'Noun'),\n",
              " ('분', 'Noun'),\n",
              " ('짜리', 'Verb'),\n",
              " ('노랠', 'Adjective'),\n",
              " ('지을', 'Verb'),\n",
              " ('수', 'Noun'),\n",
              " ('있어', 'Adjective'),\n",
              " ('서수만', 'Noun'),\n",
              " ('광년', 'Noun'),\n",
              " ('의', 'Josa'),\n",
              " ('일렁임', 'Noun'),\n",
              " ('을', 'Josa'),\n",
              " ('거두어', 'Verb'),\n",
              " ('지금', 'Noun'),\n",
              " ('을', 'Josa'),\n",
              " ('네', 'Noun'),\n",
              " ('게', 'Josa'),\n",
              " ('들려', 'Verb'),\n",
              " ('줄거야', 'Verb'),\n",
              " ('달이', 'Noun'),\n",
              " ('참', 'Verb'),\n",
              " ('예쁘다고', 'Adjective')]"
            ]
          },
          "metadata": {},
          "execution_count": 55
        }
      ]
    },
    {
      "cell_type": "code",
      "source": [
        "import collections\n",
        "\n",
        "text='달이 참 예쁘다  숨고 싶을 땐 다락이 되어 줄거야 죽고 싶을 땐 나락이 되어 줄거야 울고 싶은만큼 허송세월 해 줄거야 진심이 버거울 땐 우리 가면 무도회를 열자'\n",
        "sentence_tag=okt.pos(text)\n",
        "sentence_tag\n",
        "adj_list=[]\n",
        "for word, tag in sentence_tag:\n",
        "  if tag in ['Noun','adjective']:\n",
        "    adj_list.append(word)\n",
        "counts=collections.Counter(adj_list)\n",
        "tag=counts.most_common(2)\n",
        "tag\n",
        "print(tag)"
      ],
      "metadata": {
        "colab": {
          "base_uri": "https://localhost:8080/"
        },
        "id": "QzB2wt8D6_8z",
        "outputId": "af0985e2-fa92-4b8f-c4f0-efa1f8692748"
      },
      "execution_count": 56,
      "outputs": [
        {
          "output_type": "stream",
          "name": "stdout",
          "text": [
            "[('땐', 3), ('달이', 1)]\n"
          ]
        }
      ]
    },
    {
      "cell_type": "code",
      "source": [
        "!pip install wordcloud"
      ],
      "metadata": {
        "colab": {
          "base_uri": "https://localhost:8080/"
        },
        "id": "alm6Gg6t8npd",
        "outputId": "fe7030f3-b7c8-41b4-860a-6445e9aefb11"
      },
      "execution_count": 57,
      "outputs": [
        {
          "output_type": "stream",
          "name": "stdout",
          "text": [
            "Requirement already satisfied: wordcloud in /usr/local/lib/python3.11/dist-packages (1.9.4)\n",
            "Requirement already satisfied: numpy>=1.6.1 in /usr/local/lib/python3.11/dist-packages (from wordcloud) (2.0.2)\n",
            "Requirement already satisfied: pillow in /usr/local/lib/python3.11/dist-packages (from wordcloud) (11.2.1)\n",
            "Requirement already satisfied: matplotlib in /usr/local/lib/python3.11/dist-packages (from wordcloud) (3.10.0)\n",
            "Requirement already satisfied: contourpy>=1.0.1 in /usr/local/lib/python3.11/dist-packages (from matplotlib->wordcloud) (1.3.2)\n",
            "Requirement already satisfied: cycler>=0.10 in /usr/local/lib/python3.11/dist-packages (from matplotlib->wordcloud) (0.12.1)\n",
            "Requirement already satisfied: fonttools>=4.22.0 in /usr/local/lib/python3.11/dist-packages (from matplotlib->wordcloud) (4.57.0)\n",
            "Requirement already satisfied: kiwisolver>=1.3.1 in /usr/local/lib/python3.11/dist-packages (from matplotlib->wordcloud) (1.4.8)\n",
            "Requirement already satisfied: packaging>=20.0 in /usr/local/lib/python3.11/dist-packages (from matplotlib->wordcloud) (24.2)\n",
            "Requirement already satisfied: pyparsing>=2.3.1 in /usr/local/lib/python3.11/dist-packages (from matplotlib->wordcloud) (3.2.3)\n",
            "Requirement already satisfied: python-dateutil>=2.7 in /usr/local/lib/python3.11/dist-packages (from matplotlib->wordcloud) (2.9.0.post0)\n",
            "Requirement already satisfied: six>=1.5 in /usr/local/lib/python3.11/dist-packages (from python-dateutil>=2.7->matplotlib->wordcloud) (1.17.0)\n"
          ]
        }
      ]
    },
    {
      "cell_type": "code",
      "source": [
        "import matplotlib.pyplot as plt"
      ],
      "metadata": {
        "id": "NN-EFfo-9chv"
      },
      "execution_count": 58,
      "outputs": []
    },
    {
      "cell_type": "code",
      "source": [
        "f = open(\"/content/달이참예쁘다고.txt\", 'r')\n",
        "str=''\n",
        "lines = f.readlines()\n",
        "for line in lines:\n",
        "  line = line.strip()\n",
        "  str+=line\n",
        "f.close()"
      ],
      "metadata": {
        "id": "W6K49gwO9-6W"
      },
      "execution_count": 67,
      "outputs": []
    },
    {
      "cell_type": "code",
      "source": [
        "sentence_tag=okt.pos(str)\n",
        "sentence_tag"
      ],
      "metadata": {
        "colab": {
          "base_uri": "https://localhost:8080/"
        },
        "id": "9e33SLc1-bDs",
        "outputId": "0665cfd8-4e5e-4eba-c26e-7459230c2521"
      },
      "execution_count": 68,
      "outputs": [
        {
          "output_type": "execute_result",
          "data": {
            "text/plain": [
              "[('이승윤', 'Noun'),\n",
              " ('밤', 'Noun'),\n",
              " ('하늘', 'Noun'),\n",
              " ('빛나는', 'Verb'),\n",
              " ('수만', 'Noun'),\n",
              " ('가지', 'Noun'),\n",
              " ('것', 'Noun'),\n",
              " ('들', 'Suffix'),\n",
              " ('이', 'Josa'),\n",
              " ('이미', 'Adverb'),\n",
              " ('죽어', 'Verb'),\n",
              " ('버린', 'Verb'),\n",
              " ('행성', 'Noun'),\n",
              " ('의', 'Josa'),\n",
              " ('잔', 'Noun'),\n",
              " ('해라면', 'Verb'),\n",
              " ('고개', 'Noun'),\n",
              " ('를', 'Josa'),\n",
              " ('들어', 'Verb'),\n",
              " ('경의', 'Noun'),\n",
              " ('를', 'Josa'),\n",
              " ('표', 'Noun'),\n",
              " ('하기', 'Verb'),\n",
              " ('보단', 'Verb'),\n",
              " ('허리', 'Noun'),\n",
              " ('를', 'Josa'),\n",
              " ('숙여', 'Verb'),\n",
              " ('흙', 'Noun'),\n",
              " ('을', 'Josa'),\n",
              " ('한', 'Verb'),\n",
              " ('웅큼', 'Noun'),\n",
              " ('집어', 'Verb'),\n",
              " ('들래', 'Verb'),\n",
              " ('방', 'Noun'),\n",
              " ('안', 'Noun'),\n",
              " ('에', 'Josa'),\n",
              " ('가득히', 'Adjective'),\n",
              " ('내', 'Noun'),\n",
              " ('가', 'Josa'),\n",
              " ('사랑', 'Noun'),\n",
              " ('을', 'Josa'),\n",
              " ('했던', 'Verb'),\n",
              " ('사람', 'Noun'),\n",
              " ('들', 'Suffix'),\n",
              " ('이', 'Josa'),\n",
              " ('액자', 'Noun'),\n",
              " ('안', 'Noun'),\n",
              " ('에서', 'Josa'),\n",
              " ('빛나고', 'Verb'),\n",
              " ('있어', 'Adjective'),\n",
              " ('죽어서', 'Verb'),\n",
              " ('이름', 'Noun'),\n",
              " ('을', 'Josa'),\n",
              " ('어딘가', 'Noun'),\n",
              " ('남기기', 'Verb'),\n",
              " ('보단', 'Verb'),\n",
              " ('살아서', 'Verb'),\n",
              " ('그', 'Noun'),\n",
              " ('들', 'Suffix'),\n",
              " ('의', 'Josa'),\n",
              " ('이름', 'Noun'),\n",
              " ('을', 'Josa'),\n",
              " ('한번', 'Noun'),\n",
              " ('더', 'Noun'),\n",
              " ('불러', 'Verb'),\n",
              " ('볼', 'Noun'),\n",
              " ('래', 'Josa'),\n",
              " ('위대한', 'Adjective'),\n",
              " ('공식', 'Noun'),\n",
              " ('이', 'Josa'),\n",
              " ('길게', 'Adjective'),\n",
              " ('늘어서', 'Verb'),\n",
              " ('있는', 'Adjective'),\n",
              " ('거대한', 'Adjective'),\n",
              " ('시공', 'Noun'),\n",
              " ('에', 'Josa'),\n",
              " ('짧은', 'Adjective'),\n",
              " ('문장', 'Noun'),\n",
              " ('을', 'Josa'),\n",
              " ('새겨', 'Verb'),\n",
              " ('보곤', 'Verb'),\n",
              " ('해너', 'Noun'),\n",
              " ('와', 'Josa'),\n",
              " ('나', 'Noun'),\n",
              " ('또', 'Noun'),\n",
              " ('몇몇', 'Noun'),\n",
              " ('의', 'Josa'),\n",
              " ('이름', 'Noun'),\n",
              " ('두어', 'Modifier'),\n",
              " ('가지', 'Noun'),\n",
              " ('마음', 'Noun'),\n",
              " ('까지', 'Josa'),\n",
              " ('영원히', 'Adjective'),\n",
              " ('노', 'Noun'),\n",
              " ('를', 'Josa'),\n",
              " ('저을', 'Noun'),\n",
              " ('순', 'Noun'),\n",
              " ('없지만', 'Adjective'),\n",
              " ('몇', 'Noun'),\n",
              " ('분', 'Noun'),\n",
              " ('짜리', 'Verb'),\n",
              " ('노랠', 'Adjective'),\n",
              " ('지을', 'Verb'),\n",
              " ('수', 'Noun'),\n",
              " ('있어', 'Adjective'),\n",
              " ('서수만', 'Noun'),\n",
              " ('광년', 'Noun'),\n",
              " ('의', 'Josa'),\n",
              " ('일렁임', 'Noun'),\n",
              " ('을', 'Josa'),\n",
              " ('거두어', 'Verb'),\n",
              " ('지금', 'Noun'),\n",
              " ('을', 'Josa'),\n",
              " ('네', 'Noun'),\n",
              " ('게', 'Josa'),\n",
              " ('들려', 'Verb'),\n",
              " ('줄거야', 'Verb'),\n",
              " ('달이', 'Noun'),\n",
              " ('참', 'Verb'),\n",
              " ('예쁘다', 'Adjective'),\n",
              " ('숨고', 'Verb'),\n",
              " ('싶을', 'Verb'),\n",
              " ('땐', 'Noun'),\n",
              " ('다락', 'Noun'),\n",
              " ('이', 'Josa'),\n",
              " ('되어', 'Verb'),\n",
              " ('줄거야', 'Verb'),\n",
              " ('죽고', 'Verb'),\n",
              " ('싶을', 'Verb'),\n",
              " ('땐', 'Noun'),\n",
              " ('나락', 'Noun'),\n",
              " ('이', 'Josa'),\n",
              " ('되어', 'Verb'),\n",
              " ('줄거야울고', 'Verb'),\n",
              " ('싶은만큼', 'Verb'),\n",
              " ('허송', 'Noun'),\n",
              " ('세월', 'Noun'),\n",
              " ('해', 'Noun'),\n",
              " ('줄거야', 'Verb'),\n",
              " ('진심', 'Noun'),\n",
              " ('이', 'Josa'),\n",
              " ('버거울', 'Adjective'),\n",
              " ('땐', 'Noun'),\n",
              " ('우리', 'Noun'),\n",
              " ('가면', 'Noun'),\n",
              " ('무도회', 'Noun'),\n",
              " ('를', 'Josa'),\n",
              " ('열자', 'Noun'),\n",
              " ('달', 'Noun'),\n",
              " ('위', 'Noun'),\n",
              " ('에다', 'Josa'),\n",
              " ('발자국', 'Noun'),\n",
              " ('을', 'Josa'),\n",
              " ('남기고', 'Verb'),\n",
              " ('싶진', 'Verb'),\n",
              " ('않아', 'Verb'),\n",
              " ('단지', 'Noun'),\n",
              " ('너', 'Noun'),\n",
              " ('와', 'Josa'),\n",
              " ('발', 'Noun'),\n",
              " ('맞추어', 'Verb'),\n",
              " ('걷고', 'Verb'),\n",
              " ('싶었어', 'Verb'),\n",
              " ('닻', 'Noun'),\n",
              " ('이', 'Josa'),\n",
              " ('닫지', 'Verb'),\n",
              " ('않는', 'Verb'),\n",
              " ('바다', 'Noun'),\n",
              " ('의', 'Josa'),\n",
              " ('바닥', 'Noun'),\n",
              " ('이라도', 'Josa'),\n",
              " ('영원히', 'Adjective'),\n",
              " ('노', 'Noun'),\n",
              " ('를', 'Josa'),\n",
              " ('저을', 'Noun'),\n",
              " ('순', 'Noun'),\n",
              " ('없지만', 'Adjective'),\n",
              " ('몇', 'Noun'),\n",
              " ('분', 'Noun'),\n",
              " ('짜리', 'Verb'),\n",
              " ('노랠', 'Adjective'),\n",
              " ('지을', 'Verb'),\n",
              " ('수', 'Noun'),\n",
              " ('있어', 'Adjective'),\n",
              " ('서수만', 'Noun'),\n",
              " ('광년', 'Noun'),\n",
              " ('의', 'Josa'),\n",
              " ('일렁임', 'Noun'),\n",
              " ('을', 'Josa'),\n",
              " ('거두어', 'Verb'),\n",
              " ('지금', 'Noun'),\n",
              " ('을', 'Josa'),\n",
              " ('네', 'Noun'),\n",
              " ('게', 'Josa'),\n",
              " ('들려', 'Verb'),\n",
              " ('줄거야', 'Verb'),\n",
              " ('달이', 'Noun'),\n",
              " ('참', 'Verb'),\n",
              " ('예쁘다고', 'Adjective')]"
            ]
          },
          "metadata": {},
          "execution_count": 68
        }
      ]
    },
    {
      "cell_type": "code",
      "source": [
        "sentence_tag=okt.pos(str)\n",
        "sentence_tag\n",
        "adj_list=[]\n",
        "for word, tag in sentence_tag:\n",
        "  if tag in ['Noun','Adkectove']:\n",
        "    adj_list.append(word)\n",
        "adj_list[:10]"
      ],
      "metadata": {
        "colab": {
          "base_uri": "https://localhost:8080/"
        },
        "id": "vugf1vWVONjt",
        "outputId": "737b02aa-b2c7-4520-daaf-fcc734c3a70e"
      },
      "execution_count": 69,
      "outputs": [
        {
          "output_type": "execute_result",
          "data": {
            "text/plain": [
              "['이승윤', '밤', '하늘', '수만', '가지', '것', '행성', '잔', '고개', '경의']"
            ]
          },
          "metadata": {},
          "execution_count": 69
        }
      ]
    },
    {
      "cell_type": "code",
      "source": [
        "counts=collections.Counter(adj_list)\n",
        "tag=counts.most_common(10)\n",
        "tag"
      ],
      "metadata": {
        "colab": {
          "base_uri": "https://localhost:8080/"
        },
        "id": "nVT9hjCDN-3N",
        "outputId": "ba623296-2620-4e3d-f2bb-fe828d84fdd8"
      },
      "execution_count": 70,
      "outputs": [
        {
          "output_type": "execute_result",
          "data": {
            "text/plain": [
              "[('이름', 3),\n",
              " ('땐', 3),\n",
              " ('가지', 2),\n",
              " ('안', 2),\n",
              " ('노', 2),\n",
              " ('저을', 2),\n",
              " ('순', 2),\n",
              " ('몇', 2),\n",
              " ('분', 2),\n",
              " ('수', 2)]"
            ]
          },
          "metadata": {},
          "execution_count": 70
        }
      ]
    },
    {
      "cell_type": "code",
      "source": [
        "from wordcloud import WordCloud\n",
        "wc=WordCloud(font_path=font_path, background_color='skyblue',max_font_size=60)\n",
        "cloud=wc.generate_from_frequencies(dict(tag))"
      ],
      "metadata": {
        "id": "jqwwfqVVHQQh"
      },
      "execution_count": 71,
      "outputs": []
    },
    {
      "cell_type": "code",
      "source": [
        "import matplotlib.pyplot as plt\n",
        "plt.figure(figsize=(10,8))\n",
        "plt.imshow(cloud)"
      ],
      "metadata": {
        "colab": {
          "base_uri": "https://localhost:8080/",
          "height": 470
        },
        "id": "mhuevNaJHp5z",
        "outputId": "0122a959-4258-4702-8aa0-6283d0d63111"
      },
      "execution_count": 72,
      "outputs": [
        {
          "output_type": "execute_result",
          "data": {
            "text/plain": [
              "<matplotlib.image.AxesImage at 0x7809dbc261d0>"
            ]
          },
          "metadata": {},
          "execution_count": 72
        },
        {
          "output_type": "display_data",
          "data": {
            "text/plain": [
              "<Figure size 1000x800 with 1 Axes>"
            ],
            "image/png": "[encoded data removed]"
          },
          "metadata": {}
        }
      ]
    },
    {
      "cell_type": "code",
      "source": [
        "import pandas as pd\n",
        "import matplotlib.pyplot as plt\n",
        "import collections\n",
        "from wordcloud import WordCloud"
      ],
      "metadata": {
        "id": "DTJcldQMHz1l"
      },
      "execution_count": 73,
      "outputs": []
    },
    {
      "cell_type": "code",
      "source": [
        "df=pd.read_excel('/content/chap12_실습2.xlsx')\n",
        "df.head()"
      ],
      "metadata": {
        "colab": {
          "base_uri": "https://localhost:8080/",
          "height": 206
        },
        "id": "vZyidEAuJg0n",
        "outputId": "70aa80b7-074a-4747-b970-e2282fa0bf79"
      },
      "execution_count": 79,
      "outputs": [
        {
          "output_type": "execute_result",
          "data": {
            "text/plain": [
              "         일자     언론사                                                 본문\n",
              "0  20220924  파이낸셜뉴스  9월 30일부터 10월 2일까지 갓바위문화타운 일원에서 열려 \\n \\n \\n【파이낸...\n",
              "1  20220923    한국일보  정부가 야외에서의 마스크 착용 의무를 26일부터 전면 해제한다고 밝히면서 내달 열리...\n",
              "2  20220923    한국일보  야외 공연 즐기기 좋은 가을철을 맞아 대형 음악 축제가 이어진다. 팬데믹 기간 정상...\n",
              "3  20220922  광주매일신문  우리나라 대중음악을 빛내는 별들이 ‘목포뮤직플레이’에 대거 출연해 목포의 가을을 장...\n",
              "4  20220921    경향신문  50대 여성 A씨는 지난 8일 유명 트로트 가수의 티켓을 판매한다는 게시글을 중고품..."
            ],
            "text/html": [
              "\n",
              "  <div id=\"df-c60cd3c6-25ce-43b2-8c5e-23e93e2e16c7\" class=\"colab-df-container\">\n",
              "    <div>\n",
              "<style scoped>\n",
              "    .dataframe tbody tr th:only-of-type {\n",
              "        vertical-align: middle;\n",
              "    }\n",
              "\n",
              "    .dataframe tbody tr th {\n",
              "        vertical-align: top;\n",
              "    }\n",
              "\n",
              "    .dataframe thead th {\n",
              "        text-align: right;\n",
              "    }\n",
              "</style>\n",
              "<table border=\"1\" class=\"dataframe\">\n",
              "  <thead>\n",
              "    <tr style=\"text-align: right;\">\n",
              "      <th></th>\n",
              "      <th>일자</th>\n",
              "      <th>언론사</th>\n",
              "      <th>본문</th>\n",
              "    </tr>\n",
              "  </thead>\n",
              "  <tbody>\n",
              "    <tr>\n",
              "      <th>0</th>\n",
              "      <td>20220924</td>\n",
              "      <td>파이낸셜뉴스</td>\n",
              "      <td>9월 30일부터 10월 2일까지 갓바위문화타운 일원에서 열려 \\n \\n \\n【파이낸...</td>\n",
              "    </tr>\n",
              "    <tr>\n",
              "      <th>1</th>\n",
              "      <td>20220923</td>\n",
              "      <td>한국일보</td>\n",
              "      <td>정부가 야외에서의 마스크 착용 의무를 26일부터 전면 해제한다고 밝히면서 내달 열리...</td>\n",
              "    </tr>\n",
              "    <tr>\n",
              "      <th>2</th>\n",
              "      <td>20220923</td>\n",
              "      <td>한국일보</td>\n",
              "      <td>야외 공연 즐기기 좋은 가을철을 맞아 대형 음악 축제가 이어진다. 팬데믹 기간 정상...</td>\n",
              "    </tr>\n",
              "    <tr>\n",
              "      <th>3</th>\n",
              "      <td>20220922</td>\n",
              "      <td>광주매일신문</td>\n",
              "      <td>우리나라 대중음악을 빛내는 별들이 ‘목포뮤직플레이’에 대거 출연해 목포의 가을을 장...</td>\n",
              "    </tr>\n",
              "    <tr>\n",
              "      <th>4</th>\n",
              "      <td>20220921</td>\n",
              "      <td>경향신문</td>\n",
              "      <td>50대 여성 A씨는 지난 8일 유명 트로트 가수의 티켓을 판매한다는 게시글을 중고품...</td>\n",
              "    </tr>\n",
              "  </tbody>\n",
              "</table>\n",
              "</div>\n",
              "    <div class=\"colab-df-buttons\">\n",
              "\n",
              "  <div class=\"colab-df-container\">\n",
              "    <button class=\"colab-df-convert\" onclick=\"convertToInteractive('df-c60cd3c6-25ce-43b2-8c5e-23e93e2e16c7')\"\n",
              "            title=\"Convert this dataframe to an interactive table.\"\n",
              "            style=\"display:none;\">\n",
              "\n",
              "  <svg xmlns=\"http://www.w3.org/2000/svg\" height=\"24px\" viewBox=\"0 -960 960 960\">\n",
              "    <path d=\"M120-120v-720h720v720H120Zm60-500h600v-160H180v160Zm220 220h160v-160H400v160Zm0 220h160v-160H400v160ZM180-400h160v-160H180v160Zm440 0h160v-160H620v160ZM180-180h160v-160H180v160Zm440 0h160v-160H620v160Z\"/>\n",
              "  </svg>\n",
              "    </button>\n",
              "\n",
              "  <style>\n",
              "    .colab-df-container {\n",
              "      display:flex;\n",
              "      gap: 12px;\n",
              "    }\n",
              "\n",
              "    .colab-df-convert {\n",
              "      background-color: #E8F0FE;\n",
              "      border: none;\n",
              "      border-radius: 50%;\n",
              "      cursor: pointer;\n",
              "      display: none;\n",
              "      fill: #1967D2;\n",
              "      height: 32px;\n",
              "      padding: 0 0 0 0;\n",
              "      width: 32px;\n",
              "    }\n",
              "\n",
              "    .colab-df-convert:hover {\n",
              "      background-color: #E2EBFA;\n",
              "      box-shadow: 0px 1px 2px rgba(60, 64, 67, 0.3), 0px 1px 3px 1px rgba(60, 64, 67, 0.15);\n",
              "      fill: #174EA6;\n",
              "    }\n",
              "\n",
              "    .colab-df-buttons div {\n",
              "      margin-bottom: 4px;\n",
              "    }\n",
              "\n",
              "    [theme=dark] .colab-df-convert {\n",
              "      background-color: #3B4455;\n",
              "      fill: #D2E3FC;\n",
              "    }\n",
              "\n",
              "    [theme=dark] .colab-df-convert:hover {\n",
              "      background-color: #434B5C;\n",
              "      box-shadow: 0px 1px 3px 1px rgba(0, 0, 0, 0.15);\n",
              "      filter: drop-shadow(0px 1px 2px rgba(0, 0, 0, 0.3));\n",
              "      fill: #FFFFFF;\n",
              "    }\n",
              "  </style>\n",
              "\n",
              "    <script>\n",
              "      const buttonEl =\n",
              "        document.querySelector('#df-c60cd3c6-25ce-43b2-8c5e-23e93e2e16c7 button.colab-df-convert');\n",
              "      buttonEl.style.display =\n",
              "        google.colab.kernel.accessAllowed ? 'block' : 'none';\n",
              "\n",
              "      async function convertToInteractive(key) {\n",
              "        const element = document.querySelector('#df-c60cd3c6-25ce-43b2-8c5e-23e93e2e16c7');\n",
              "        const dataTable =\n",
              "          await google.colab.kernel.invokeFunction('convertToInteractive',\n",
              "                                                    [key], {});\n",
              "        if (!dataTable) return;\n",
              "\n",
              "        const docLinkHtml = 'Like what you see? Visit the ' +\n",
              "          '<a target=\"_blank\" href=https://colab.research.google.com/notebooks/data_table.ipynb>data table notebook</a>'\n",
              "          + ' to learn more about interactive tables.';\n",
              "        element.innerHTML = '';\n",
              "        dataTable['output_type'] = 'display_data';\n",
              "        await google.colab.output.renderOutput(dataTable, element);\n",
              "        const docLink = document.createElement('div');\n",
              "        docLink.innerHTML = docLinkHtml;\n",
              "        element.appendChild(docLink);\n",
              "      }\n",
              "    </script>\n",
              "  </div>\n",
              "\n",
              "\n",
              "    <div id=\"df-44c1f3a1-2c8e-43cd-87cc-bdd643e06f9b\">\n",
              "      <button class=\"colab-df-quickchart\" onclick=\"quickchart('df-44c1f3a1-2c8e-43cd-87cc-bdd643e06f9b')\"\n",
              "                title=\"Suggest charts\"\n",
              "                style=\"display:none;\">\n",
              "\n",
              "<svg xmlns=\"http://www.w3.org/2000/svg\" height=\"24px\"viewBox=\"0 0 24 24\"\n",
              "     width=\"24px\">\n",
              "    <g>\n",
              "        <path d=\"M19 3H5c-1.1 0-2 .9-2 2v14c0 1.1.9 2 2 2h14c1.1 0 2-.9 2-2V5c0-1.1-.9-2-2-2zM9 17H7v-7h2v7zm4 0h-2V7h2v10zm4 0h-2v-4h2v4z\"/>\n",
              "    </g>\n",
              "</svg>\n",
              "      </button>\n",
              "\n",
              "<style>\n",
              "  .colab-df-quickchart {\n",
              "      --bg-color: #E8F0FE;\n",
              "      --fill-color: #1967D2;\n",
              "      --hover-bg-color: #E2EBFA;\n",
              "      --hover-fill-color: #174EA6;\n",
              "      --disabled-fill-color: #AAA;\n",
              "      --disabled-bg-color: #DDD;\n",
              "  }\n",
              "\n",
              "  [theme=dark] .colab-df-quickchart {\n",
              "      --bg-color: #3B4455;\n",
              "      --fill-color: #D2E3FC;\n",
              "      --hover-bg-color: #434B5C;\n",
              "      --hover-fill-color: #FFFFFF;\n",
              "      --disabled-bg-color: #3B4455;\n",
              "      --disabled-fill-color: #666;\n",
              "  }\n",
              "\n",
              "  .colab-df-quickchart {\n",
              "    background-color: var(--bg-color);\n",
              "    border: none;\n",
              "    border-radius: 50%;\n",
              "    cursor: pointer;\n",
              "    display: none;\n",
              "    fill: var(--fill-color);\n",
              "    height: 32px;\n",
              "    padding: 0;\n",
              "    width: 32px;\n",
              "  }\n",
              "\n",
              "  .colab-df-quickchart:hover {\n",
              "    background-color: var(--hover-bg-color);\n",
              "    box-shadow: 0 1px 2px rgba(60, 64, 67, 0.3), 0 1px 3px 1px rgba(60, 64, 67, 0.15);\n",
              "    fill: var(--button-hover-fill-color);\n",
              "  }\n",
              "\n",
              "  .colab-df-quickchart-complete:disabled,\n",
              "  .colab-df-quickchart-complete:disabled:hover {\n",
              "    background-color: var(--disabled-bg-color);\n",
              "    fill: var(--disabled-fill-color);\n",
              "    box-shadow: none;\n",
              "  }\n",
              "\n",
              "  .colab-df-spinner {\n",
              "    border: 2px solid var(--fill-color);\n",
              "    border-color: transparent;\n",
              "    border-bottom-color: var(--fill-color);\n",
              "    animation:\n",
              "      spin 1s steps(1) infinite;\n",
              "  }\n",
              "\n",
              "  @keyframes spin {\n",
              "    0% {\n",
              "      border-color: transparent;\n",
              "      border-bottom-color: var(--fill-color);\n",
              "      border-left-color: var(--fill-color);\n",
              "    }\n",
              "    20% {\n",
              "      border-color: transparent;\n",
              "      border-left-color: var(--fill-color);\n",
              "      border-top-color: var(--fill-color);\n",
              "    }\n",
              "    30% {\n",
              "      border-color: transparent;\n",
              "      border-left-color: var(--fill-color);\n",
              "      border-top-color: var(--fill-color);\n",
              "      border-right-color: var(--fill-color);\n",
              "    }\n",
              "    40% {\n",
              "      border-color: transparent;\n",
              "      border-right-color: var(--fill-color);\n",
              "      border-top-color: var(--fill-color);\n",
              "    }\n",
              "    60% {\n",
              "      border-color: transparent;\n",
              "      border-right-color: var(--fill-color);\n",
              "    }\n",
              "    80% {\n",
              "      border-color: transparent;\n",
              "      border-right-color: var(--fill-color);\n",
              "      border-bottom-color: var(--fill-color);\n",
              "    }\n",
              "    90% {\n",
              "      border-color: transparent;\n",
              "      border-bottom-color: var(--fill-color);\n",
              "    }\n",
              "  }\n",
              "</style>\n",
              "\n",
              "      <script>\n",
              "        async function quickchart(key) {\n",
              "          const quickchartButtonEl =\n",
              "            document.querySelector('#' + key + ' button');\n",
              "          quickchartButtonEl.disabled = true;  // To prevent multiple clicks.\n",
              "          quickchartButtonEl.classList.add('colab-df-spinner');\n",
              "          try {\n",
              "            const charts = await google.colab.kernel.invokeFunction(\n",
              "                'suggestCharts', [key], {});\n",
              "          } catch (error) {\n",
              "            console.error('Error during call to suggestCharts:', error);\n",
              "          }\n",
              "          quickchartButtonEl.classList.remove('colab-df-spinner');\n",
              "          quickchartButtonEl.classList.add('colab-df-quickchart-complete');\n",
              "        }\n",
              "        (() => {\n",
              "          let quickchartButtonEl =\n",
              "            document.querySelector('#df-44c1f3a1-2c8e-43cd-87cc-bdd643e06f9b button');\n",
              "          quickchartButtonEl.style.display =\n",
              "            google.colab.kernel.accessAllowed ? 'block' : 'none';\n",
              "        })();\n",
              "      </script>\n",
              "    </div>\n",
              "\n",
              "    </div>\n",
              "  </div>\n"
            ],
            "application/vnd.google.colaboratory.intrinsic+json": {
              "type": "dataframe",
              "variable_name": "df",
              "summary": "{\n  \"name\": \"df\",\n  \"rows\": 25,\n  \"fields\": [\n    {\n      \"column\": \"\\uc77c\\uc790\",\n      \"properties\": {\n        \"dtype\": \"number\",\n        \"std\": 84,\n        \"min\": 20220711,\n        \"max\": 20220924,\n        \"num_unique_values\": 20,\n        \"samples\": [\n          20220924,\n          20220713,\n          20220718\n        ],\n        \"semantic_type\": \"\",\n        \"description\": \"\"\n      }\n    },\n    {\n      \"column\": \"\\uc5b8\\ub860\\uc0ac\",\n      \"properties\": {\n        \"dtype\": \"category\",\n        \"num_unique_values\": 12,\n        \"samples\": [\n          \"\\ub0b4\\uc77c\\uc2e0\\ubb38\",\n          \"\\ud55c\\uad6d\\uacbd\\uc81c\",\n          \"\\ud30c\\uc774\\ub0b8\\uc15c\\ub274\\uc2a4\"\n        ],\n        \"semantic_type\": \"\",\n        \"description\": \"\"\n      }\n    },\n    {\n      \"column\": \"\\ubcf8\\ubb38\",\n      \"properties\": {\n        \"dtype\": \"string\",\n        \"num_unique_values\": 25,\n        \"samples\": [\n          \"[\\ud5e4\\ub7f4\\ub4dc\\uacbd\\uc81c=\\uace0\\uc2b9\\ud76c \\uae30\\uc790] \\uac00\\uc218 \\uc774\\uc2b9\\uc724\\uc774 \\uac15\\ub825\\ud55c \\ud2f0\\ucf13 \\ud30c\\uc6cc\\ub97c \\uc785\\uc99d, \\uc0c8\\ub85c\\uc6b4 \\uacf5\\uc5f0 \\uac15\\uc790\\ub85c \\ub5a0\\uc624\\ub974\\uace0 \\uc788\\ub2e4. \\n \\n \\uc18c\\uc18d\\uc0ac \\ub9c8\\ub984\\ubaa8(MAREUMO)\\ub294 \\uc624\\ub294 11\\uc6d4 20\\uc77c \\uc138\\uc885\\ubb38\\ud654\\ud68c\\uad00 \\ub300\\uadf9\\uc7a5\\uc5d0\\uc11c \\uc5f4\\ub9ac\\ub294 \\uc774\\uc2b9\\uc724\\uc758 \\ub2e8\\ub3c5 \\ucf58\\uc11c\\ud2b8\\uac00 \\ud2f0\\ucf13 \\uc624\\ud508 5\\ubd84 \\ub9cc\\uc5d0 \\uc804\\uc11d \\ub9e4\\uc9c4\\uc744 \\uae30\\ub85d\\ud588\\ub2e4\\uace0 6\\uc77c \\ubc1d\\ud614\\ub2e4. \\n \\n \\uc774 \\uacf5\\uc5f0\\uc740 11\\uc6d4 4\\uc77c\\ubd80\\ud130 27\\uc77c\\uae4c\\uc9c0 \\uc9c4\\ud589\\ub418\\ub294 \\u2018\\uc528\\uc5b4\\ud130 \\ubba4\\uc9c1 \\ud398\\uc2a4\\ud2f0\\ubc8c \\u2013..\",\n          \"\\ud750\\ub9ac\\uace0 \\ubb34\\ub354\\uc6b4 \\ub0a0\\uc528\\uac00 \\uacc4\\uc18d\\ub418\\uba74\\uc11c \\uc9c0\\uc790\\uccb4\\ub4e4\\uc774 \\uc6b4\\uc601\\ud558\\ub294 \\ub3c4\\uc2ec \\uc18d \\ud53c\\uc11c\\uc9c0\\uac00 \\uc778\\uae30\\ub97c \\ub04c\\uace0 \\uc788\\ub2e4. \\ubb34\\ub354\\uc704\\uac00 \\ubcf8\\uaca9\\ud654\\ub418\\uba74\\uc11c \\uc2dc\\uc6d0\\ud55c \\uc2e4\\ub0b4\\uc5d0\\uc11c \\ub2e4\\uc591\\ud55c \\ud504\\ub85c\\uadf8\\ub7a8\\uc744 \\uc811\\ud560 \\uc218 \\uc788\\ub294 \\ub3c4\\uc11c\\uad00 \\ubc15\\ubb3c\\uad00\\uc744 \\ucc3e\\uac70\\ub098 \\uac01\\uc885 \\uacf5\\uc5f0\\uc774 \\ud3bc\\uccd0\\uc9c0\\ub294 \\ucd95\\uc81c\\ub098 \\ud589\\uc0ac\\uc7a5\\uc744 \\ucc3e\\uc544\\uac00 '\\ubb38\\ud654 \\ud53c\\uc11c'\\ub97c \\uc990\\uae30\\uae30\\ub3c4 \\ud55c\\ub2e4. \\n\\n\\n \\n\\n\\n4\\uc77c \\uacbd\\uae30 \\uad11\\uba85\\uc2dc\\uc5d0 \\ub530\\ub974\\uba74 \\uc774\\uc0c9 \\ud53c\\uc11c\\uc9c0\\ub85c \\uc18c\\ubb38\\ub09c '\\uad11\\uba85\\ub3d9\\uad74'\\uc740 \\ucd5c\\uadfc \\uc8fc\\ub9d0 \\uc785\\uc7a5\\uac1d\\uc774 ..\",\n          \"9\\uc6d4 30\\uc77c\\ubd80\\ud130 10\\uc6d4 2\\uc77c\\uae4c\\uc9c0 \\uac13\\ubc14\\uc704\\ubb38\\ud654\\ud0c0\\uc6b4 \\uc77c\\uc6d0\\uc5d0\\uc11c \\uc5f4\\ub824 \\n \\n \\n\\u3010\\ud30c\\uc774\\ub0b8\\uc15c\\ub274\\uc2a4 \\ubaa9\\ud3ec=\\ud669\\ud0dc\\uc885 \\uae30\\uc790\\u3011\\uc624\\ub294 9\\uc6d4 30\\uc77c\\ubd80\\ud130 10\\uc6d4 2\\uc77c\\uae4c\\uc9c0 \\uc804\\ub0a8 \\ubaa9\\ud3ec\\uc2dc \\uac13\\ubc14\\uc704\\ubb38\\ud654\\ud0c0\\uc6b4 \\uc77c\\uc6d0\\uc5d0\\uc11c \\uc5f4\\ub9ac\\ub294 '\\ubaa9\\ud3ec\\ubba4\\uc9c1\\ud50c\\ub808\\uc774'\\uac00 \\ud48d\\uc131\\ud55c \\ubcfc\\uac70\\ub9ac \\uc990\\uae38\\uac70\\ub9ac\\ub85c \\uac00\\uc744\\uc5ec\\ud589\\uac1d\\uc758 \\ubc1c\\uae38\\uc744 \\ubd99\\uc7a1\\ub294\\ub2e4. \\n \\n24\\uc77c \\ubaa9\\ud3ec\\uc2dc\\uc5d0 \\ub530\\ub974\\uba74 '\\ubaa9\\ud3ec\\ubba4\\uc9c1\\ud50c\\ub808\\uc774'\\uc5d0\\uc11c \\ubaa9\\ud3ec\\uc758 \\uadfc\\ub300\\ubb38\\ud654\\ub97c \\uc120\\ubcf4\\uc778\\ub2e4. \\n \\n\\uc9c0\\ub09c 1930..\"\n        ],\n        \"semantic_type\": \"\",\n        \"description\": \"\"\n      }\n    }\n  ]\n}"
            }
          },
          "metadata": {},
          "execution_count": 79
        }
      ]
    },
    {
      "cell_type": "code",
      "source": [
        "df.info()"
      ],
      "metadata": {
        "colab": {
          "base_uri": "https://localhost:8080/"
        },
        "id": "Yvf4yDd7Oxo-",
        "outputId": "a10955be-1a78-4098-c55c-dbcbd2811544"
      },
      "execution_count": 80,
      "outputs": [
        {
          "output_type": "stream",
          "name": "stdout",
          "text": [
            "<class 'pandas.core.frame.DataFrame'>\n",
            "RangeIndex: 25 entries, 0 to 24\n",
            "Data columns (total 3 columns):\n",
            " #   Column  Non-Null Count  Dtype \n",
            "---  ------  --------------  ----- \n",
            " 0   일자      25 non-null     int64 \n",
            " 1   언론사     25 non-null     object\n",
            " 2   본문      25 non-null     object\n",
            "dtypes: int64(1), object(2)\n",
            "memory usage: 732.0+ bytes\n"
          ]
        }
      ]
    },
    {
      "cell_type": "code",
      "source": [
        "print(df.isnull().sum())"
      ],
      "metadata": {
        "colab": {
          "base_uri": "https://localhost:8080/"
        },
        "id": "GUHtyH6YO2wc",
        "outputId": "7e4d302b-9667-4876-9dd5-021a345561f2"
      },
      "execution_count": 81,
      "outputs": [
        {
          "output_type": "stream",
          "name": "stdout",
          "text": [
            "일자     0\n",
            "언론사    0\n",
            "본문     0\n",
            "dtype: int64\n"
          ]
        }
      ]
    },
    {
      "cell_type": "code",
      "source": [
        "df['정규화본문']=df['본문'].str.replace(\"[^ㄱ-ㅎㅏ-ㅣ가-힣 0-9]\",\"\")\n",
        "df.head()"
      ],
      "metadata": {
        "id": "8R1QsolFLqjX",
        "colab": {
          "base_uri": "https://localhost:8080/",
          "height": 293
        },
        "outputId": "425d410c-db0d-4a51-bd84-1b58d9801a10"
      },
      "execution_count": 82,
      "outputs": [
        {
          "output_type": "execute_result",
          "data": {
            "text/plain": [
              "         일자     언론사                                                 본문  \\\n",
              "0  20220924  파이낸셜뉴스  9월 30일부터 10월 2일까지 갓바위문화타운 일원에서 열려 \\n \\n \\n【파이낸...   \n",
              "1  20220923    한국일보  정부가 야외에서의 마스크 착용 의무를 26일부터 전면 해제한다고 밝히면서 내달 열리...   \n",
              "2  20220923    한국일보  야외 공연 즐기기 좋은 가을철을 맞아 대형 음악 축제가 이어진다. 팬데믹 기간 정상...   \n",
              "3  20220922  광주매일신문  우리나라 대중음악을 빛내는 별들이 ‘목포뮤직플레이’에 대거 출연해 목포의 가을을 장...   \n",
              "4  20220921    경향신문  50대 여성 A씨는 지난 8일 유명 트로트 가수의 티켓을 판매한다는 게시글을 중고품...   \n",
              "\n",
              "                                               정규화본문  \n",
              "0  9월 30일부터 10월 2일까지 갓바위문화타운 일원에서 열려 \\n \\n \\n【파이낸...  \n",
              "1  정부가 야외에서의 마스크 착용 의무를 26일부터 전면 해제한다고 밝히면서 내달 열리...  \n",
              "2  야외 공연 즐기기 좋은 가을철을 맞아 대형 음악 축제가 이어진다. 팬데믹 기간 정상...  \n",
              "3  우리나라 대중음악을 빛내는 별들이 ‘목포뮤직플레이’에 대거 출연해 목포의 가을을 장...  \n",
              "4  50대 여성 A씨는 지난 8일 유명 트로트 가수의 티켓을 판매한다는 게시글을 중고품...  "
            ],
            "text/html": [
              "\n",
              "  <div id=\"df-78735615-c625-4b86-98b5-d6801d390d8f\" class=\"colab-df-container\">\n",
              "    <div>\n",
              "<style scoped>\n",
              "    .dataframe tbody tr th:only-of-type {\n",
              "        vertical-align: middle;\n",
              "    }\n",
              "\n",
              "    .dataframe tbody tr th {\n",
              "        vertical-align: top;\n",
              "    }\n",
              "\n",
              "    .dataframe thead th {\n",
              "        text-align: right;\n",
              "    }\n",
              "</style>\n",
              "<table border=\"1\" class=\"dataframe\">\n",
              "  <thead>\n",
              "    <tr style=\"text-align: right;\">\n",
              "      <th></th>\n",
              "      <th>일자</th>\n",
              "      <th>언론사</th>\n",
              "      <th>본문</th>\n",
              "      <th>정규화본문</th>\n",
              "    </tr>\n",
              "  </thead>\n",
              "  <tbody>\n",
              "    <tr>\n",
              "      <th>0</th>\n",
              "      <td>20220924</td>\n",
              "      <td>파이낸셜뉴스</td>\n",
              "      <td>9월 30일부터 10월 2일까지 갓바위문화타운 일원에서 열려 \\n \\n \\n【파이낸...</td>\n",
              "      <td>9월 30일부터 10월 2일까지 갓바위문화타운 일원에서 열려 \\n \\n \\n【파이낸...</td>\n",
              "    </tr>\n",
              "    <tr>\n",
              "      <th>1</th>\n",
              "      <td>20220923</td>\n",
              "      <td>한국일보</td>\n",
              "      <td>정부가 야외에서의 마스크 착용 의무를 26일부터 전면 해제한다고 밝히면서 내달 열리...</td>\n",
              "      <td>정부가 야외에서의 마스크 착용 의무를 26일부터 전면 해제한다고 밝히면서 내달 열리...</td>\n",
              "    </tr>\n",
              "    <tr>\n",
              "      <th>2</th>\n",
              "      <td>20220923</td>\n",
              "      <td>한국일보</td>\n",
              "      <td>야외 공연 즐기기 좋은 가을철을 맞아 대형 음악 축제가 이어진다. 팬데믹 기간 정상...</td>\n",
              "      <td>야외 공연 즐기기 좋은 가을철을 맞아 대형 음악 축제가 이어진다. 팬데믹 기간 정상...</td>\n",
              "    </tr>\n",
              "    <tr>\n",
              "      <th>3</th>\n",
              "      <td>20220922</td>\n",
              "      <td>광주매일신문</td>\n",
              "      <td>우리나라 대중음악을 빛내는 별들이 ‘목포뮤직플레이’에 대거 출연해 목포의 가을을 장...</td>\n",
              "      <td>우리나라 대중음악을 빛내는 별들이 ‘목포뮤직플레이’에 대거 출연해 목포의 가을을 장...</td>\n",
              "    </tr>\n",
              "    <tr>\n",
              "      <th>4</th>\n",
              "      <td>20220921</td>\n",
              "      <td>경향신문</td>\n",
              "      <td>50대 여성 A씨는 지난 8일 유명 트로트 가수의 티켓을 판매한다는 게시글을 중고품...</td>\n",
              "      <td>50대 여성 A씨는 지난 8일 유명 트로트 가수의 티켓을 판매한다는 게시글을 중고품...</td>\n",
              "    </tr>\n",
              "  </tbody>\n",
              "</table>\n",
              "</div>\n",
              "    <div class=\"colab-df-buttons\">\n",
              "\n",
              "  <div class=\"colab-df-container\">\n",
              "    <button class=\"colab-df-convert\" onclick=\"convertToInteractive('df-78735615-c625-4b86-98b5-d6801d390d8f')\"\n",
              "            title=\"Convert this dataframe to an interactive table.\"\n",
              "            style=\"display:none;\">\n",
              "\n",
              "  <svg xmlns=\"http://www.w3.org/2000/svg\" height=\"24px\" viewBox=\"0 -960 960 960\">\n",
              "    <path d=\"M120-120v-720h720v720H120Zm60-500h600v-160H180v160Zm220 220h160v-160H400v160Zm0 220h160v-160H400v160ZM180-400h160v-160H180v160Zm440 0h160v-160H620v160ZM180-180h160v-160H180v160Zm440 0h160v-160H620v160Z\"/>\n",
              "  </svg>\n",
              "    </button>\n",
              "\n",
              "  <style>\n",
              "    .colab-df-container {\n",
              "      display:flex;\n",
              "      gap: 12px;\n",
              "    }\n",
              "\n",
              "    .colab-df-convert {\n",
              "      background-color: #E8F0FE;\n",
              "      border: none;\n",
              "      border-radius: 50%;\n",
              "      cursor: pointer;\n",
              "      display: none;\n",
              "      fill: #1967D2;\n",
              "      height: 32px;\n",
              "      padding: 0 0 0 0;\n",
              "      width: 32px;\n",
              "    }\n",
              "\n",
              "    .colab-df-convert:hover {\n",
              "      background-color: #E2EBFA;\n",
              "      box-shadow: 0px 1px 2px rgba(60, 64, 67, 0.3), 0px 1px 3px 1px rgba(60, 64, 67, 0.15);\n",
              "      fill: #174EA6;\n",
              "    }\n",
              "\n",
              "    .colab-df-buttons div {\n",
              "      margin-bottom: 4px;\n",
              "    }\n",
              "\n",
              "    [theme=dark] .colab-df-convert {\n",
              "      background-color: #3B4455;\n",
              "      fill: #D2E3FC;\n",
              "    }\n",
              "\n",
              "    [theme=dark] .colab-df-convert:hover {\n",
              "      background-color: #434B5C;\n",
              "      box-shadow: 0px 1px 3px 1px rgba(0, 0, 0, 0.15);\n",
              "      filter: drop-shadow(0px 1px 2px rgba(0, 0, 0, 0.3));\n",
              "      fill: #FFFFFF;\n",
              "    }\n",
              "  </style>\n",
              "\n",
              "    <script>\n",
              "      const buttonEl =\n",
              "        document.querySelector('#df-78735615-c625-4b86-98b5-d6801d390d8f button.colab-df-convert');\n",
              "      buttonEl.style.display =\n",
              "        google.colab.kernel.accessAllowed ? 'block' : 'none';\n",
              "\n",
              "      async function convertToInteractive(key) {\n",
              "        const element = document.querySelector('#df-78735615-c625-4b86-98b5-d6801d390d8f');\n",
              "        const dataTable =\n",
              "          await google.colab.kernel.invokeFunction('convertToInteractive',\n",
              "                                                    [key], {});\n",
              "        if (!dataTable) return;\n",
              "\n",
              "        const docLinkHtml = 'Like what you see? Visit the ' +\n",
              "          '<a target=\"_blank\" href=https://colab.research.google.com/notebooks/data_table.ipynb>data table notebook</a>'\n",
              "          + ' to learn more about interactive tables.';\n",
              "        element.innerHTML = '';\n",
              "        dataTable['output_type'] = 'display_data';\n",
              "        await google.colab.output.renderOutput(dataTable, element);\n",
              "        const docLink = document.createElement('div');\n",
              "        docLink.innerHTML = docLinkHtml;\n",
              "        element.appendChild(docLink);\n",
              "      }\n",
              "    </script>\n",
              "  </div>\n",
              "\n",
              "\n",
              "    <div id=\"df-1b81e5f4-3dd8-4389-b451-0b1f508d0f54\">\n",
              "      <button class=\"colab-df-quickchart\" onclick=\"quickchart('df-1b81e5f4-3dd8-4389-b451-0b1f508d0f54')\"\n",
              "                title=\"Suggest charts\"\n",
              "                style=\"display:none;\">\n",
              "\n",
              "<svg xmlns=\"http://www.w3.org/2000/svg\" height=\"24px\"viewBox=\"0 0 24 24\"\n",
              "     width=\"24px\">\n",
              "    <g>\n",
              "        <path d=\"M19 3H5c-1.1 0-2 .9-2 2v14c0 1.1.9 2 2 2h14c1.1 0 2-.9 2-2V5c0-1.1-.9-2-2-2zM9 17H7v-7h2v7zm4 0h-2V7h2v10zm4 0h-2v-4h2v4z\"/>\n",
              "    </g>\n",
              "</svg>\n",
              "      </button>\n",
              "\n",
              "<style>\n",
              "  .colab-df-quickchart {\n",
              "      --bg-color: #E8F0FE;\n",
              "      --fill-color: #1967D2;\n",
              "      --hover-bg-color: #E2EBFA;\n",
              "      --hover-fill-color: #174EA6;\n",
              "      --disabled-fill-color: #AAA;\n",
              "      --disabled-bg-color: #DDD;\n",
              "  }\n",
              "\n",
              "  [theme=dark] .colab-df-quickchart {\n",
              "      --bg-color: #3B4455;\n",
              "      --fill-color: #D2E3FC;\n",
              "      --hover-bg-color: #434B5C;\n",
              "      --hover-fill-color: #FFFFFF;\n",
              "      --disabled-bg-color: #3B4455;\n",
              "      --disabled-fill-color: #666;\n",
              "  }\n",
              "\n",
              "  .colab-df-quickchart {\n",
              "    background-color: var(--bg-color);\n",
              "    border: none;\n",
              "    border-radius: 50%;\n",
              "    cursor: pointer;\n",
              "    display: none;\n",
              "    fill: var(--fill-color);\n",
              "    height: 32px;\n",
              "    padding: 0;\n",
              "    width: 32px;\n",
              "  }\n",
              "\n",
              "  .colab-df-quickchart:hover {\n",
              "    background-color: var(--hover-bg-color);\n",
              "    box-shadow: 0 1px 2px rgba(60, 64, 67, 0.3), 0 1px 3px 1px rgba(60, 64, 67, 0.15);\n",
              "    fill: var(--button-hover-fill-color);\n",
              "  }\n",
              "\n",
              "  .colab-df-quickchart-complete:disabled,\n",
              "  .colab-df-quickchart-complete:disabled:hover {\n",
              "    background-color: var(--disabled-bg-color);\n",
              "    fill: var(--disabled-fill-color);\n",
              "    box-shadow: none;\n",
              "  }\n",
              "\n",
              "  .colab-df-spinner {\n",
              "    border: 2px solid var(--fill-color);\n",
              "    border-color: transparent;\n",
              "    border-bottom-color: var(--fill-color);\n",
              "    animation:\n",
              "      spin 1s steps(1) infinite;\n",
              "  }\n",
              "\n",
              "  @keyframes spin {\n",
              "    0% {\n",
              "      border-color: transparent;\n",
              "      border-bottom-color: var(--fill-color);\n",
              "      border-left-color: var(--fill-color);\n",
              "    }\n",
              "    20% {\n",
              "      border-color: transparent;\n",
              "      border-left-color: var(--fill-color);\n",
              "      border-top-color: var(--fill-color);\n",
              "    }\n",
              "    30% {\n",
              "      border-color: transparent;\n",
              "      border-left-color: var(--fill-color);\n",
              "      border-top-color: var(--fill-color);\n",
              "      border-right-color: var(--fill-color);\n",
              "    }\n",
              "    40% {\n",
              "      border-color: transparent;\n",
              "      border-right-color: var(--fill-color);\n",
              "      border-top-color: var(--fill-color);\n",
              "    }\n",
              "    60% {\n",
              "      border-color: transparent;\n",
              "      border-right-color: var(--fill-color);\n",
              "    }\n",
              "    80% {\n",
              "      border-color: transparent;\n",
              "      border-right-color: var(--fill-color);\n",
              "      border-bottom-color: var(--fill-color);\n",
              "    }\n",
              "    90% {\n",
              "      border-color: transparent;\n",
              "      border-bottom-color: var(--fill-color);\n",
              "    }\n",
              "  }\n",
              "</style>\n",
              "\n",
              "      <script>\n",
              "        async function quickchart(key) {\n",
              "          const quickchartButtonEl =\n",
              "            document.querySelector('#' + key + ' button');\n",
              "          quickchartButtonEl.disabled = true;  // To prevent multiple clicks.\n",
              "          quickchartButtonEl.classList.add('colab-df-spinner');\n",
              "          try {\n",
              "            const charts = await google.colab.kernel.invokeFunction(\n",
              "                'suggestCharts', [key], {});\n",
              "          } catch (error) {\n",
              "            console.error('Error during call to suggestCharts:', error);\n",
              "          }\n",
              "          quickchartButtonEl.classList.remove('colab-df-spinner');\n",
              "          quickchartButtonEl.classList.add('colab-df-quickchart-complete');\n",
              "        }\n",
              "        (() => {\n",
              "          let quickchartButtonEl =\n",
              "            document.querySelector('#df-1b81e5f4-3dd8-4389-b451-0b1f508d0f54 button');\n",
              "          quickchartButtonEl.style.display =\n",
              "            google.colab.kernel.accessAllowed ? 'block' : 'none';\n",
              "        })();\n",
              "      </script>\n",
              "    </div>\n",
              "\n",
              "    </div>\n",
              "  </div>\n"
            ],
            "application/vnd.google.colaboratory.intrinsic+json": {
              "type": "dataframe",
              "variable_name": "df",
              "summary": "{\n  \"name\": \"df\",\n  \"rows\": 25,\n  \"fields\": [\n    {\n      \"column\": \"\\uc77c\\uc790\",\n      \"properties\": {\n        \"dtype\": \"number\",\n        \"std\": 84,\n        \"min\": 20220711,\n        \"max\": 20220924,\n        \"num_unique_values\": 20,\n        \"samples\": [\n          20220924,\n          20220713,\n          20220718\n        ],\n        \"semantic_type\": \"\",\n        \"description\": \"\"\n      }\n    },\n    {\n      \"column\": \"\\uc5b8\\ub860\\uc0ac\",\n      \"properties\": {\n        \"dtype\": \"category\",\n        \"num_unique_values\": 12,\n        \"samples\": [\n          \"\\ub0b4\\uc77c\\uc2e0\\ubb38\",\n          \"\\ud55c\\uad6d\\uacbd\\uc81c\",\n          \"\\ud30c\\uc774\\ub0b8\\uc15c\\ub274\\uc2a4\"\n        ],\n        \"semantic_type\": \"\",\n        \"description\": \"\"\n      }\n    },\n    {\n      \"column\": \"\\ubcf8\\ubb38\",\n      \"properties\": {\n        \"dtype\": \"string\",\n        \"num_unique_values\": 25,\n        \"samples\": [\n          \"[\\ud5e4\\ub7f4\\ub4dc\\uacbd\\uc81c=\\uace0\\uc2b9\\ud76c \\uae30\\uc790] \\uac00\\uc218 \\uc774\\uc2b9\\uc724\\uc774 \\uac15\\ub825\\ud55c \\ud2f0\\ucf13 \\ud30c\\uc6cc\\ub97c \\uc785\\uc99d, \\uc0c8\\ub85c\\uc6b4 \\uacf5\\uc5f0 \\uac15\\uc790\\ub85c \\ub5a0\\uc624\\ub974\\uace0 \\uc788\\ub2e4. \\n \\n \\uc18c\\uc18d\\uc0ac \\ub9c8\\ub984\\ubaa8(MAREUMO)\\ub294 \\uc624\\ub294 11\\uc6d4 20\\uc77c \\uc138\\uc885\\ubb38\\ud654\\ud68c\\uad00 \\ub300\\uadf9\\uc7a5\\uc5d0\\uc11c \\uc5f4\\ub9ac\\ub294 \\uc774\\uc2b9\\uc724\\uc758 \\ub2e8\\ub3c5 \\ucf58\\uc11c\\ud2b8\\uac00 \\ud2f0\\ucf13 \\uc624\\ud508 5\\ubd84 \\ub9cc\\uc5d0 \\uc804\\uc11d \\ub9e4\\uc9c4\\uc744 \\uae30\\ub85d\\ud588\\ub2e4\\uace0 6\\uc77c \\ubc1d\\ud614\\ub2e4. \\n \\n \\uc774 \\uacf5\\uc5f0\\uc740 11\\uc6d4 4\\uc77c\\ubd80\\ud130 27\\uc77c\\uae4c\\uc9c0 \\uc9c4\\ud589\\ub418\\ub294 \\u2018\\uc528\\uc5b4\\ud130 \\ubba4\\uc9c1 \\ud398\\uc2a4\\ud2f0\\ubc8c \\u2013..\",\n          \"\\ud750\\ub9ac\\uace0 \\ubb34\\ub354\\uc6b4 \\ub0a0\\uc528\\uac00 \\uacc4\\uc18d\\ub418\\uba74\\uc11c \\uc9c0\\uc790\\uccb4\\ub4e4\\uc774 \\uc6b4\\uc601\\ud558\\ub294 \\ub3c4\\uc2ec \\uc18d \\ud53c\\uc11c\\uc9c0\\uac00 \\uc778\\uae30\\ub97c \\ub04c\\uace0 \\uc788\\ub2e4. \\ubb34\\ub354\\uc704\\uac00 \\ubcf8\\uaca9\\ud654\\ub418\\uba74\\uc11c \\uc2dc\\uc6d0\\ud55c \\uc2e4\\ub0b4\\uc5d0\\uc11c \\ub2e4\\uc591\\ud55c \\ud504\\ub85c\\uadf8\\ub7a8\\uc744 \\uc811\\ud560 \\uc218 \\uc788\\ub294 \\ub3c4\\uc11c\\uad00 \\ubc15\\ubb3c\\uad00\\uc744 \\ucc3e\\uac70\\ub098 \\uac01\\uc885 \\uacf5\\uc5f0\\uc774 \\ud3bc\\uccd0\\uc9c0\\ub294 \\ucd95\\uc81c\\ub098 \\ud589\\uc0ac\\uc7a5\\uc744 \\ucc3e\\uc544\\uac00 '\\ubb38\\ud654 \\ud53c\\uc11c'\\ub97c \\uc990\\uae30\\uae30\\ub3c4 \\ud55c\\ub2e4. \\n\\n\\n \\n\\n\\n4\\uc77c \\uacbd\\uae30 \\uad11\\uba85\\uc2dc\\uc5d0 \\ub530\\ub974\\uba74 \\uc774\\uc0c9 \\ud53c\\uc11c\\uc9c0\\ub85c \\uc18c\\ubb38\\ub09c '\\uad11\\uba85\\ub3d9\\uad74'\\uc740 \\ucd5c\\uadfc \\uc8fc\\ub9d0 \\uc785\\uc7a5\\uac1d\\uc774 ..\",\n          \"9\\uc6d4 30\\uc77c\\ubd80\\ud130 10\\uc6d4 2\\uc77c\\uae4c\\uc9c0 \\uac13\\ubc14\\uc704\\ubb38\\ud654\\ud0c0\\uc6b4 \\uc77c\\uc6d0\\uc5d0\\uc11c \\uc5f4\\ub824 \\n \\n \\n\\u3010\\ud30c\\uc774\\ub0b8\\uc15c\\ub274\\uc2a4 \\ubaa9\\ud3ec=\\ud669\\ud0dc\\uc885 \\uae30\\uc790\\u3011\\uc624\\ub294 9\\uc6d4 30\\uc77c\\ubd80\\ud130 10\\uc6d4 2\\uc77c\\uae4c\\uc9c0 \\uc804\\ub0a8 \\ubaa9\\ud3ec\\uc2dc \\uac13\\ubc14\\uc704\\ubb38\\ud654\\ud0c0\\uc6b4 \\uc77c\\uc6d0\\uc5d0\\uc11c \\uc5f4\\ub9ac\\ub294 '\\ubaa9\\ud3ec\\ubba4\\uc9c1\\ud50c\\ub808\\uc774'\\uac00 \\ud48d\\uc131\\ud55c \\ubcfc\\uac70\\ub9ac \\uc990\\uae38\\uac70\\ub9ac\\ub85c \\uac00\\uc744\\uc5ec\\ud589\\uac1d\\uc758 \\ubc1c\\uae38\\uc744 \\ubd99\\uc7a1\\ub294\\ub2e4. \\n \\n24\\uc77c \\ubaa9\\ud3ec\\uc2dc\\uc5d0 \\ub530\\ub974\\uba74 '\\ubaa9\\ud3ec\\ubba4\\uc9c1\\ud50c\\ub808\\uc774'\\uc5d0\\uc11c \\ubaa9\\ud3ec\\uc758 \\uadfc\\ub300\\ubb38\\ud654\\ub97c \\uc120\\ubcf4\\uc778\\ub2e4. \\n \\n\\uc9c0\\ub09c 1930..\"\n        ],\n        \"semantic_type\": \"\",\n        \"description\": \"\"\n      }\n    },\n    {\n      \"column\": \"\\uc815\\uaddc\\ud654\\ubcf8\\ubb38\",\n      \"properties\": {\n        \"dtype\": \"string\",\n        \"num_unique_values\": 25,\n        \"samples\": [\n          \"[\\ud5e4\\ub7f4\\ub4dc\\uacbd\\uc81c=\\uace0\\uc2b9\\ud76c \\uae30\\uc790] \\uac00\\uc218 \\uc774\\uc2b9\\uc724\\uc774 \\uac15\\ub825\\ud55c \\ud2f0\\ucf13 \\ud30c\\uc6cc\\ub97c \\uc785\\uc99d, \\uc0c8\\ub85c\\uc6b4 \\uacf5\\uc5f0 \\uac15\\uc790\\ub85c \\ub5a0\\uc624\\ub974\\uace0 \\uc788\\ub2e4. \\n \\n \\uc18c\\uc18d\\uc0ac \\ub9c8\\ub984\\ubaa8(MAREUMO)\\ub294 \\uc624\\ub294 11\\uc6d4 20\\uc77c \\uc138\\uc885\\ubb38\\ud654\\ud68c\\uad00 \\ub300\\uadf9\\uc7a5\\uc5d0\\uc11c \\uc5f4\\ub9ac\\ub294 \\uc774\\uc2b9\\uc724\\uc758 \\ub2e8\\ub3c5 \\ucf58\\uc11c\\ud2b8\\uac00 \\ud2f0\\ucf13 \\uc624\\ud508 5\\ubd84 \\ub9cc\\uc5d0 \\uc804\\uc11d \\ub9e4\\uc9c4\\uc744 \\uae30\\ub85d\\ud588\\ub2e4\\uace0 6\\uc77c \\ubc1d\\ud614\\ub2e4. \\n \\n \\uc774 \\uacf5\\uc5f0\\uc740 11\\uc6d4 4\\uc77c\\ubd80\\ud130 27\\uc77c\\uae4c\\uc9c0 \\uc9c4\\ud589\\ub418\\ub294 \\u2018\\uc528\\uc5b4\\ud130 \\ubba4\\uc9c1 \\ud398\\uc2a4\\ud2f0\\ubc8c \\u2013..\",\n          \"\\ud750\\ub9ac\\uace0 \\ubb34\\ub354\\uc6b4 \\ub0a0\\uc528\\uac00 \\uacc4\\uc18d\\ub418\\uba74\\uc11c \\uc9c0\\uc790\\uccb4\\ub4e4\\uc774 \\uc6b4\\uc601\\ud558\\ub294 \\ub3c4\\uc2ec \\uc18d \\ud53c\\uc11c\\uc9c0\\uac00 \\uc778\\uae30\\ub97c \\ub04c\\uace0 \\uc788\\ub2e4. \\ubb34\\ub354\\uc704\\uac00 \\ubcf8\\uaca9\\ud654\\ub418\\uba74\\uc11c \\uc2dc\\uc6d0\\ud55c \\uc2e4\\ub0b4\\uc5d0\\uc11c \\ub2e4\\uc591\\ud55c \\ud504\\ub85c\\uadf8\\ub7a8\\uc744 \\uc811\\ud560 \\uc218 \\uc788\\ub294 \\ub3c4\\uc11c\\uad00 \\ubc15\\ubb3c\\uad00\\uc744 \\ucc3e\\uac70\\ub098 \\uac01\\uc885 \\uacf5\\uc5f0\\uc774 \\ud3bc\\uccd0\\uc9c0\\ub294 \\ucd95\\uc81c\\ub098 \\ud589\\uc0ac\\uc7a5\\uc744 \\ucc3e\\uc544\\uac00 '\\ubb38\\ud654 \\ud53c\\uc11c'\\ub97c \\uc990\\uae30\\uae30\\ub3c4 \\ud55c\\ub2e4. \\n\\n\\n \\n\\n\\n4\\uc77c \\uacbd\\uae30 \\uad11\\uba85\\uc2dc\\uc5d0 \\ub530\\ub974\\uba74 \\uc774\\uc0c9 \\ud53c\\uc11c\\uc9c0\\ub85c \\uc18c\\ubb38\\ub09c '\\uad11\\uba85\\ub3d9\\uad74'\\uc740 \\ucd5c\\uadfc \\uc8fc\\ub9d0 \\uc785\\uc7a5\\uac1d\\uc774 ..\",\n          \"9\\uc6d4 30\\uc77c\\ubd80\\ud130 10\\uc6d4 2\\uc77c\\uae4c\\uc9c0 \\uac13\\ubc14\\uc704\\ubb38\\ud654\\ud0c0\\uc6b4 \\uc77c\\uc6d0\\uc5d0\\uc11c \\uc5f4\\ub824 \\n \\n \\n\\u3010\\ud30c\\uc774\\ub0b8\\uc15c\\ub274\\uc2a4 \\ubaa9\\ud3ec=\\ud669\\ud0dc\\uc885 \\uae30\\uc790\\u3011\\uc624\\ub294 9\\uc6d4 30\\uc77c\\ubd80\\ud130 10\\uc6d4 2\\uc77c\\uae4c\\uc9c0 \\uc804\\ub0a8 \\ubaa9\\ud3ec\\uc2dc \\uac13\\ubc14\\uc704\\ubb38\\ud654\\ud0c0\\uc6b4 \\uc77c\\uc6d0\\uc5d0\\uc11c \\uc5f4\\ub9ac\\ub294 '\\ubaa9\\ud3ec\\ubba4\\uc9c1\\ud50c\\ub808\\uc774'\\uac00 \\ud48d\\uc131\\ud55c \\ubcfc\\uac70\\ub9ac \\uc990\\uae38\\uac70\\ub9ac\\ub85c \\uac00\\uc744\\uc5ec\\ud589\\uac1d\\uc758 \\ubc1c\\uae38\\uc744 \\ubd99\\uc7a1\\ub294\\ub2e4. \\n \\n24\\uc77c \\ubaa9\\ud3ec\\uc2dc\\uc5d0 \\ub530\\ub974\\uba74 '\\ubaa9\\ud3ec\\ubba4\\uc9c1\\ud50c\\ub808\\uc774'\\uc5d0\\uc11c \\ubaa9\\ud3ec\\uc758 \\uadfc\\ub300\\ubb38\\ud654\\ub97c \\uc120\\ubcf4\\uc778\\ub2e4. \\n \\n\\uc9c0\\ub09c 1930..\"\n        ],\n        \"semantic_type\": \"\",\n        \"description\": \"\"\n      }\n    }\n  ]\n}"
            }
          },
          "metadata": {},
          "execution_count": 82
        }
      ]
    },
    {
      "cell_type": "code",
      "source": [
        "temp_list=[]\n",
        "for sentence in df['정규화본문']:\n",
        "  s_list=okt.pos(sentence)\n",
        "  for word, tag in s_list:\n",
        "    if tag in ['Noun','Adjective']:\n",
        "      temp_list.append(word)\n",
        "counts=collections.Counter(temp_list)\n",
        "tag=counts.most_common(50)\n",
        "tag"
      ],
      "metadata": {
        "id": "x59b7Qx1L7zK",
        "colab": {
          "base_uri": "https://localhost:8080/"
        },
        "outputId": "39a3baf1-ebd2-497c-f20c-cd923513cbe2"
      },
      "execution_count": 83,
      "outputs": [
        {
          "output_type": "execute_result",
          "data": {
            "text/plain": [
              "[('뮤직', 25),\n",
              " ('목포', 22),\n",
              " ('이승윤', 19),\n",
              " ('플레이', 17),\n",
              " ('문화', 16),\n",
              " ('가수', 16),\n",
              " ('음악', 11),\n",
              " ('축제', 10),\n",
              " ('공연', 10),\n",
              " ('투표', 10),\n",
              " ('갓바위', 9),\n",
              " ('목포시', 9),\n",
              " ('지난', 9),\n",
              " ('타운', 8),\n",
              " ('코로나', 8),\n",
              " ('전국', 8),\n",
              " ('통해', 8),\n",
              " ('의', 7),\n",
              " ('티켓', 7),\n",
              " ('스타', 7),\n",
              " ('수', 7),\n",
              " ('더', 7),\n",
              " ('일원', 6),\n",
              " ('있다', 6),\n",
              " ('계획', 6),\n",
              " ('경연', 6),\n",
              " ('온라인', 6),\n",
              " ('진행', 6),\n",
              " ('이', 6),\n",
              " ('팩트', 6),\n",
              " ('어워즈', 6),\n",
              " ('뮤지션', 6),\n",
              " ('추진', 6),\n",
              " ('대표', 5),\n",
              " ('최초', 5),\n",
              " ('대회', 5),\n",
              " ('마름모', 5),\n",
              " ('를', 5),\n",
              " ('보고', 5),\n",
              " ('기자', 4),\n",
              " ('전남', 4),\n",
              " ('국내', 4),\n",
              " ('페스티벌', 4),\n",
              " ('씨', 4),\n",
              " ('브랜드', 4),\n",
              " ('파워', 4),\n",
              " ('위', 4),\n",
              " ('표', 4),\n",
              " ('방송', 4),\n",
              " ('있는', 4)]"
            ]
          },
          "metadata": {},
          "execution_count": 83
        }
      ]
    },
    {
      "cell_type": "code",
      "source": [
        "wc=WordCloud(font_path=font_path, background_color='white',max_font_size=60, scale=2.0)\n",
        "cloud=wc.generate_from_frequencies(dict(tag))\n",
        "plt.figure(figsize=(10, 8))\n",
        "plt.imshow(cloud)"
      ],
      "metadata": {
        "id": "ri0pD96Vfhi_",
        "colab": {
          "base_uri": "https://localhost:8080/",
          "height": 471
        },
        "outputId": "9a20bc69-de1b-4239-f104-a83eb79a649c"
      },
      "execution_count": 85,
      "outputs": [
        {
          "output_type": "execute_result",
          "data": {
            "text/plain": [
              "<matplotlib.image.AxesImage at 0x7809db289b10>"
            ]
          },
          "metadata": {},
          "execution_count": 85
        },
        {
          "output_type": "display_data",
          "data": {
            "text/plain": [
              "<Figure size 1000x800 with 1 Axes>"
            ],
            "image/png": "[encoded data removed]"
          },
          "metadata": {}
        }
      ]
    },
    {
      "cell_type": "code",
      "source": [],
      "metadata": {
        "id": "sau66x4Mftuv"
      },
      "execution_count": 85,
      "outputs": []
    }
  ]
}