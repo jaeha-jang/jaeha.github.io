{
  "nbformat": 4,
  "nbformat_minor": 0,
  "metadata": {
    "colab": {
      "provenance": [],
      "authorship_tag": "ABX9TyPpvWnPQNelkstM01oFBkyk",
      "include_colab_link": true
    },
    "kernelspec": {
      "name": "python3",
      "display_name": "Python 3"
    },
    "language_info": {
      "name": "python"
    }
  },
  "cells": [
    {
      "cell_type": "markdown",
      "metadata": {
        "id": "view-in-github",
        "colab_type": "text"
      },
      "source": [
        "<a href=\"https://colab.research.google.com/github/jaeha-jang/jaeha.github.io/blob/master/Untitled47.ipynb\" target=\"_parent\"><img src=\"https://colab.research.google.com/assets/colab-badge.svg\" alt=\"Open In Colab\"/></a>"
      ]
    },
    {
      "cell_type": "code",
      "execution_count": null,
      "metadata": {
        "colab": {
          "base_uri": "https://localhost:8080/"
        },
        "id": "aQOa-n2m18qy",
        "outputId": "837a3767-5d7c-4db6-bb45-7ef42781c7b4"
      },
      "outputs": [
        {
          "output_type": "stream",
          "name": "stdout",
          "text": [
            "<class 'pandas.core.frame.DataFrame'>\n",
            "RangeIndex: 3 entries, 0 to 2\n",
            "Data columns (total 2 columns):\n",
            " #   Column  Non-Null Count  Dtype \n",
            "---  ------  --------------  ----- \n",
            " 0   date    3 non-null      object\n",
            " 1   name    3 non-null      object\n",
            "dtypes: object(2)\n",
            "memory usage: 176.0+ bytes\n",
            "         date name\n",
            "0  2019-01-03    J\n",
            "1  2021-11-22    Y\n",
            "2  2023-01-05    O\n"
          ]
        }
      ],
      "source": [
        "import pandas as pd\n",
        "d=pd.DataFrame({'date':['2019-01-03','2021-11-22','2023-01-05'],'name':['J','Y','O']})\n",
        "print(d.info())"
      ]
    },
    {
      "cell_type": "code",
      "source": [
        "d['date']=pd.to_datetime(d.date, format='%Y-%m-%d')\n",
        "d.info()"
      ],
      "metadata": {
        "colab": {
          "base_uri": "https://localhost:8080/"
        },
        "id": "-c1_ecZz2lMd",
        "outputId": "b26c27e1-5595-4fe8-9d72-c9ca9d7c9daf"
      },
      "execution_count": null,
      "outputs": [
        {
          "output_type": "stream",
          "name": "stdout",
          "text": [
            "<class 'pandas.core.frame.DataFrame'>\n",
            "RangeIndex: 3 entries, 0 to 2\n",
            "Data columns (total 2 columns):\n",
            " #   Column  Non-Null Count  Dtype         \n",
            "---  ------  --------------  -----         \n",
            " 0   date    3 non-null      datetime64[ns]\n",
            " 1   name    3 non-null      object        \n",
            "dtypes: datetime64[ns](1), object(1)\n",
            "memory usage: 176.0+ bytes\n",
            "        date name\n",
            "0 2019-01-03    J\n",
            "1 2021-11-22    Y\n",
            "2 2023-01-05    O\n"
          ]
        }
      ]
    },
    {
      "cell_type": "code",
      "source": [
        "d.set_index(keys=['date'],inplace=True)\n",
        "print(d)"
      ],
      "metadata": {
        "colab": {
          "base_uri": "https://localhost:8080/"
        },
        "id": "UedgxvgO3A-t",
        "outputId": "a6eda951-1f99-4800-fbcc-5dc4ca911009"
      },
      "execution_count": null,
      "outputs": [
        {
          "output_type": "stream",
          "name": "stdout",
          "text": [
            "           name\n",
            "date           \n",
            "2019-01-03    J\n",
            "2021-11-22    Y\n",
            "2023-01-05    O\n"
          ]
        }
      ]
    },
    {
      "cell_type": "code",
      "source": [
        "import numpy as np\n",
        "\n",
        "d=pd.DataFrame({'date':['2019-01-03','2021-11-22','2021-12-01','2023-01-05'],'x1':[0.1, 2.0, np.nan, 1.2]})\n",
        "\n",
        "d['date']=pd.to_datetime(d.date, format='%Y-%m-%d')\n",
        "d.set_index(keys=['date'], inplace=True)\n",
        "print(d.isnull().sum())\n",
        "print(d)"
      ],
      "metadata": {
        "colab": {
          "base_uri": "https://localhost:8080/"
        },
        "id": "_GVdXohZ3Sfe",
        "outputId": "058f6c03-b64f-4e4d-9bc7-0b68f366b410"
      },
      "execution_count": null,
      "outputs": [
        {
          "output_type": "stream",
          "name": "stdout",
          "text": [
            "x1    1\n",
            "dtype: int64\n",
            "             x1\n",
            "date           \n",
            "2019-01-03  0.1\n",
            "2021-11-22  2.0\n",
            "2021-12-01  NaN\n",
            "2023-01-05  1.2\n"
          ]
        }
      ]
    },
    {
      "cell_type": "code",
      "source": [
        "d=d.fillna(method='ffill')\n",
        "print(d)"
      ],
      "metadata": {
        "colab": {
          "base_uri": "https://localhost:8080/"
        },
        "id": "oFG5i_Xl4Htb",
        "outputId": "45f13d05-b4e0-4941-9592-58eceb4bac51"
      },
      "execution_count": null,
      "outputs": [
        {
          "output_type": "stream",
          "name": "stdout",
          "text": [
            "             x1\n",
            "date           \n",
            "2019-01-03  0.1\n",
            "2021-11-22  2.0\n",
            "2021-12-01  2.0\n",
            "2023-01-05  1.2\n"
          ]
        },
        {
          "output_type": "stream",
          "name": "stderr",
          "text": [
            "<ipython-input-5-718d4aeedd0d>:1: FutureWarning: DataFrame.fillna with 'method' is deprecated and will raise in a future version. Use obj.ffill() or obj.bfill() instead.\n",
            "  d=d.fillna(method='ffill')\n"
          ]
        }
      ]
    },
    {
      "cell_type": "code",
      "source": [
        "d=d.dropna()\n",
        "print(d)"
      ],
      "metadata": {
        "colab": {
          "base_uri": "https://localhost:8080/"
        },
        "id": "M-bkJxL14zza",
        "outputId": "c4220c2a-563d-4230-bbf5-482638e3dcac"
      },
      "execution_count": null,
      "outputs": [
        {
          "output_type": "stream",
          "name": "stdout",
          "text": [
            "             x1\n",
            "date           \n",
            "2019-01-03  0.1\n",
            "2021-11-22  2.0\n",
            "2021-12-01  2.0\n",
            "2023-01-05  1.2\n"
          ]
        }
      ]
    },
    {
      "cell_type": "code",
      "source": [
        "d=d.interpolate()\n",
        "print(d)"
      ],
      "metadata": {
        "colab": {
          "base_uri": "https://localhost:8080/"
        },
        "id": "emKZCFeq46qx",
        "outputId": "04a50d28-5457-43ec-b25a-0c50a11911f1"
      },
      "execution_count": null,
      "outputs": [
        {
          "output_type": "stream",
          "name": "stdout",
          "text": [
            "             x1\n",
            "date           \n",
            "2019-01-03  0.1\n",
            "2021-11-22  2.0\n",
            "2021-12-01  2.0\n",
            "2023-01-05  1.2\n"
          ]
        }
      ]
    },
    {
      "cell_type": "code",
      "source": [
        "d=pd.DataFrame({'date':['2019-01-03','2021-11-22','2021-12-01','2023-01-05'],'x1':[0.1, 2.0, 1.6, 1.2]})\n",
        "\n",
        "d['date']=pd.to_datetime(d.date, format='%Y-%m-%d')\n",
        "d.set_index(keys=['date'], inplace=True)\n",
        "print(d.index)"
      ],
      "metadata": {
        "colab": {
          "base_uri": "https://localhost:8080/"
        },
        "id": "26yu-gcA5IeJ",
        "outputId": "4bf268ae-3d37-4753-e53a-c729bd6fb98a"
      },
      "execution_count": null,
      "outputs": [
        {
          "output_type": "stream",
          "name": "stdout",
          "text": [
            "DatetimeIndex(['2019-01-03', '2021-11-22', '2021-12-01', '2023-01-05'], dtype='datetime64[ns]', name='date', freq=None)\n"
          ]
        }
      ]
    },
    {
      "cell_type": "code",
      "source": [
        "print(d)\n",
        "d2=d.asfreq('Y',method='ffill')\n",
        "print(d2)"
      ],
      "metadata": {
        "colab": {
          "base_uri": "https://localhost:8080/"
        },
        "id": "u_1NwctAGjCr",
        "outputId": "608e8b59-b5d9-4329-b053-64d255b25a99"
      },
      "execution_count": null,
      "outputs": [
        {
          "output_type": "stream",
          "name": "stdout",
          "text": [
            "             x1\n",
            "date           \n",
            "2019-01-03  0.1\n",
            "2021-11-22  2.0\n",
            "2021-12-01  1.6\n",
            "2023-01-05  1.2\n",
            "             x1\n",
            "date           \n",
            "2019-12-31  0.1\n",
            "2020-12-31  0.1\n",
            "2021-12-31  1.6\n",
            "2022-12-31  1.6\n"
          ]
        },
        {
          "output_type": "stream",
          "name": "stderr",
          "text": [
            "<ipython-input-9-31b4af4ad8bb>:2: FutureWarning: 'Y' is deprecated and will be removed in a future version, please use 'YE' instead.\n",
            "  d2=d.asfreq('Y',method='ffill')\n"
          ]
        }
      ]
    },
    {
      "cell_type": "code",
      "source": [
        "d=pd.DataFrame({'date':['2019-01-06','2021-01-13','2021-01-20','2021-01-27','2021-02-03'],'x1':[5,4,3,2,7]})\n",
        "\n",
        "d['date']=pd.to_datetime(d.date)\n",
        "d.set_index(keys=['date'], inplace=True)\n",
        "print(\"원본\")\n",
        "print('=='*20)\n",
        "print(d)\n",
        "print('=='*20)\n",
        "tmp=d.rolling(1).mean()\n",
        "print(tmp)\n",
        "print()\n",
        "print('=='*20)\n",
        "tmp=d.rolling(2).mean()\n",
        "print(tmp)"
      ],
      "metadata": {
        "colab": {
          "base_uri": "https://localhost:8080/"
        },
        "id": "H3LDHJa6Gvvz",
        "outputId": "e7814e57-bcff-4408-8131-d02ebc19faef"
      },
      "execution_count": null,
      "outputs": [
        {
          "output_type": "stream",
          "name": "stdout",
          "text": [
            "원본\n",
            "========================================\n",
            "            x1\n",
            "date          \n",
            "2019-01-06   5\n",
            "2021-01-13   4\n",
            "2021-01-20   3\n",
            "2021-01-27   2\n",
            "2021-02-03   7\n",
            "========================================\n",
            "             x1\n",
            "date           \n",
            "2019-01-06  5.0\n",
            "2021-01-13  4.0\n",
            "2021-01-20  3.0\n",
            "2021-01-27  2.0\n",
            "2021-02-03  7.0\n",
            "\n",
            "========================================\n",
            "             x1\n",
            "date           \n",
            "2019-01-06  NaN\n",
            "2021-01-13  4.5\n",
            "2021-01-20  3.5\n",
            "2021-01-27  2.5\n",
            "2021-02-03  4.5\n"
          ]
        }
      ]
    },
    {
      "cell_type": "code",
      "source": [
        "d=pd.DataFrame({'date':['2019-01-06','2021-01-13','2021-01-20','2021-01-27','2021-02-03'],'x1':[5,4,3,2,7]})\n",
        "\n",
        "d['date']=pd.to_datetime(d.date)\n",
        "d.set_index(keys=['date'], inplace=True)\n",
        "print(\"원본\")\n",
        "print('=='*20)\n",
        "print(d)\n",
        "y_diff=d.diff()\n",
        "y_diff.columns=['diff']\n",
        "tmp=pd.concat([d,y_diff],axis=1)\n",
        "print('=='*20)\n",
        "print(tmp)"
      ],
      "metadata": {
        "colab": {
          "base_uri": "https://localhost:8080/"
        },
        "id": "I3B_k7UiHVaC",
        "outputId": "47d0a819-2094-4b31-aaaa-8715068ab75f"
      },
      "execution_count": null,
      "outputs": [
        {
          "output_type": "stream",
          "name": "stdout",
          "text": [
            "원본\n",
            "========================================\n",
            "            x1\n",
            "date          \n",
            "2019-01-06   5\n",
            "2021-01-13   4\n",
            "2021-01-20   3\n",
            "2021-01-27   2\n",
            "2021-02-03   7\n",
            "========================================\n",
            "            x1  diff\n",
            "date                \n",
            "2019-01-06   5   NaN\n",
            "2021-01-13   4  -1.0\n",
            "2021-01-20   3  -1.0\n",
            "2021-01-27   2  -1.0\n",
            "2021-02-03   7   5.0\n"
          ]
        }
      ]
    },
    {
      "cell_type": "code",
      "source": [
        "d=pd.DataFrame({'date':['2019-01-06','2021-01-13','2021-01-20','2021-01-27','2021-02-03'],'x1':[5,4,3,2,7]})\n",
        "\n",
        "d['date']=pd.to_datetime(d.date)\n",
        "d.set_index(keys=['date'], inplace=True)\n",
        "print(\"원본\")\n",
        "print('=='*20)\n",
        "print(d)\n",
        "print('=='*20)\n",
        "d['shift']=d['x1'].shift(2)\n",
        "print(d)\n",
        "print('=='*20)\n",
        "d=d.fillna(method='bfill')\n",
        "print(d)"
      ],
      "metadata": {
        "colab": {
          "base_uri": "https://localhost:8080/"
        },
        "id": "ODdqRlhFH_S0",
        "outputId": "998be479-9d18-4977-e52e-c800c2f2b239"
      },
      "execution_count": null,
      "outputs": [
        {
          "output_type": "stream",
          "name": "stdout",
          "text": [
            "원본\n",
            "========================================\n",
            "            x1\n",
            "date          \n",
            "2019-01-06   5\n",
            "2021-01-13   4\n",
            "2021-01-20   3\n",
            "2021-01-27   2\n",
            "2021-02-03   7\n",
            "========================================\n",
            "            x1  shift\n",
            "date                 \n",
            "2019-01-06   5    NaN\n",
            "2021-01-13   4    NaN\n",
            "2021-01-20   3    5.0\n",
            "2021-01-27   2    4.0\n",
            "2021-02-03   7    3.0\n",
            "========================================\n",
            "            x1  shift\n",
            "date                 \n",
            "2019-01-06   5    5.0\n",
            "2021-01-13   4    5.0\n",
            "2021-01-20   3    5.0\n",
            "2021-01-27   2    4.0\n",
            "2021-02-03   7    3.0\n"
          ]
        },
        {
          "output_type": "stream",
          "name": "stderr",
          "text": [
            "<ipython-input-12-ccecb2af1bc4>:12: FutureWarning: DataFrame.fillna with 'method' is deprecated and will raise in a future version. Use obj.ffill() or obj.bfill() instead.\n",
            "  d=d.fillna(method='bfill')\n"
          ]
        }
      ]
    },
    {
      "cell_type": "code",
      "source": [
        "import pandas as pd\n",
        "\n",
        "df = pd.DataFrame({'color': ['red', 'blue', 'green', 'blue', 'red']})\n",
        "one_hot = pd.get_dummies(df['color']).astype(int)\n",
        "print(one_hot)"
      ],
      "metadata": {
        "colab": {
          "base_uri": "https://localhost:8080/"
        },
        "id": "lFMJuOt3Ia7p",
        "outputId": "8d6bd7b6-1286-4b0f-9c16-5f8c11fb7c33"
      },
      "execution_count": null,
      "outputs": [
        {
          "output_type": "stream",
          "name": "stdout",
          "text": [
            "   blue  green  red\n",
            "0     0      0    1\n",
            "1     1      0    0\n",
            "2     0      1    0\n",
            "3     1      0    0\n",
            "4     0      0    1\n"
          ]
        }
      ]
    }
  ]
}